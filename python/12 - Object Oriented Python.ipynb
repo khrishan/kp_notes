{
 "cells": [
  {
   "cell_type": "code",
   "execution_count": null,
   "metadata": {},
   "outputs": [],
   "source": [
    "__author__ = 'Khrishan Patel'"
   ]
  },
  {
   "cell_type": "markdown",
   "metadata": {},
   "source": [
    "## Introduction to Classes\n",
    "\n",
    "`imperative` programming  - define a list of instructions to be followed in a defined order\n",
    "\n",
    "`OOP` - Object Oriented Programming. Aims to combine data and the processes that act on that data into objects which is called `encapsulation`.\n",
    "\n",
    "Think of it like a recipe:\n",
    "\n",
    "`imperative` - you get all the the ingredients, utensils and then you do the steps in order to make the meal\n",
    "\n",
    "`OOP` - relies on the objects such as the eggs, milk, spoon to know certain operations so the program just tells them to get on with it (e.g. egg boiling itself)\n",
    "\n",
    "**EVERYTHING IN PYTHON IS AN OBJECT**\n",
    "\n",
    "### What is `self`?\n",
    "\n",
    "`self` is a reference to the instance of the class."
   ]
  },
  {
   "cell_type": "code",
   "execution_count": 17,
   "metadata": {},
   "outputs": [
    {
     "name": "stdout",
     "output_type": "stream",
     "text": [
      "Kenwood\n",
      "8.99\n",
      "12.75\n",
      "Models : Kenwood = 12.75, Hamilton = 14.55\n",
      "False\n",
      "True\n",
      "True\n"
     ]
    }
   ],
   "source": [
    "class Kettle(object):\n",
    "    power_source = 'electricity'\n",
    "    \n",
    "    \n",
    "    def __init__(self, make, price):\n",
    "        self.make = make\n",
    "        self.price = price\n",
    "        self.on = False\n",
    "    \n",
    "    def switch_on(self):\n",
    "        self.on = True\n",
    "    \n",
    "        \n",
    "kenwood = Kettle('Kenwood', '8.99')\n",
    "print(kenwood.make)\n",
    "print(kenwood.price)\n",
    "\n",
    "kenwood.price = 12.75\n",
    "print(kenwood.price)\n",
    "\n",
    "hamilton = Kettle('Hamilton', 14.55)\n",
    "\n",
    "print('Models : {} = {}, {} = {}'.format(kenwood.make, kenwood.price, hamilton.make, hamilton.price))\n",
    "\n",
    "print(hamilton.on)\n",
    "hamilton.switch_on()\n",
    "print(hamilton.on)\n",
    "\n",
    "Kettle.switch_on(kenwood) # << Ohhh, so kenwood is being used as the `self` parameter\n",
    "print(kenwood.on)"
   ]
  },
  {
   "cell_type": "markdown",
   "metadata": {},
   "source": [
    "## Instance, Constructors, Attributes and more\n",
    "\n",
    "`Class` - Template for creating objects. All objects created using the same class will have the same characteristics. \n",
    "\n",
    "`Object` - An instance of a class. \n",
    "\n",
    "`Instantiate` - Create an Instance of a Class.\n",
    "\n",
    "`Method` - A function defined in a class\n",
    "\n",
    "`Attribute` - A variable bound to an instance of a class \n",
    "\n",
    "Constructor is a special methos that is executed when an instance of a class is created or constructed. In Python, this is the `__init__` method.\n",
    "\n",
    "Small Talk Term - Instance Variable\n",
    "Methods are also attribues of classes\n",
    "\n"
   ]
  },
  {
   "cell_type": "code",
   "execution_count": 21,
   "metadata": {},
   "outputs": [
    {
     "name": "stdout",
     "output_type": "stream",
     "text": [
      "Models: Kenwood = 12.75, Hamilton = 14.55\n",
      "1.5\n"
     ]
    }
   ],
   "source": [
    "print('Models: {0.make} = {0.price}, {1.make} = {1.price}'.format(kenwood, hamilton))\n",
    "\n",
    "\n",
    "# Just like houses, there's nothing stopping you from building an extenstion.\n",
    "\n",
    "# In the Kettle example, all Kettles are powered using electricity. So we can have a class attribute.\n",
    "kenwood.power = 1.5\n",
    "print(kenwood.power)\n",
    "\n"
   ]
  },
  {
   "cell_type": "markdown",
   "metadata": {},
   "source": [
    "## Class Attributes"
   ]
  },
  {
   "cell_type": "code",
   "execution_count": 27,
   "metadata": {},
   "outputs": [
    {
     "name": "stdout",
     "output_type": "stream",
     "text": [
      "Switch to Atomic Power Source\n",
      "Atomic\n",
      "Switch Kenwood to Gas\n",
      "Gas\n",
      "Atomic\n",
      "{'__module__': '__main__', 'power_source': 'Atomic', '__init__': <function Kettle.__init__ at 0x7f362d734950>, 'switch_on': <function Kettle.switch_on at 0x7f362d734a60>, '__dict__': <attribute '__dict__' of 'Kettle' objects>, '__weakref__': <attribute '__weakref__' of 'Kettle' objects>, '__doc__': None}\n",
      "{'make': 'Kenwood', 'price': 12.75, 'on': True, 'power': 1.5, 'power_source': 'Gas'}\n",
      "{'make': 'Hamilton', 'price': 14.55, 'on': True}\n"
     ]
    }
   ],
   "source": [
    "print('Switch to Atomic Power Source')\n",
    "\n",
    "Kettle.power_source = 'Atomic'\n",
    "\n",
    "print(Kettle.power_source)\n",
    "\n",
    "print('Switch Kenwood to Gas')\n",
    "kenwood.power_source = 'Gas'\n",
    "\n",
    "print(kenwood.power_source)\n",
    "print(hamilton.power_source) # <-- Shows that it is looking at the class attribute\n",
    "\n",
    "print(Kettle.__dict__)\n",
    "print(kenwood.__dict__)\n",
    "print(hamilton.__dict__)"
   ]
  },
  {
   "cell_type": "markdown",
   "metadata": {},
   "source": [
    "## Methods\n",
    "\n",
    "An important part of OOP is `encapsulation`, the idea that objects contain the data and methods, without exposing the acutal implementation to the outside world."
   ]
  },
  {
   "cell_type": "code",
   "execution_count": 41,
   "metadata": {},
   "outputs": [
    {
     "name": "stdout",
     "output_type": "stream",
     "text": [
      "Account Created for KP!\n",
      "Balance is 1000\n",
      "Balance is 500\n",
      "You do not have sufficient funds to withdraw this amount!\n",
      "Balance is 500\n",
      "  1000 deposited on 2019-06-13 15:36:34.252821+00:00 UTC\n",
      "Balance is 1000000000000\n"
     ]
    }
   ],
   "source": [
    "import datetime\n",
    "import pytz\n",
    "\n",
    "class Account:\n",
    "    \"\"\" Simple account class with balance.\"\"\" # <-- This is a DocString\n",
    "    \n",
    "    # In order to make something static, you remove the `self` from the method\n",
    "    # and add an annotation (@static), and put a _ at the start of the method.\n",
    "    @staticmethod\n",
    "    def _current_time():\n",
    "        utc_time = datetime.datetime.utcnow()\n",
    "        return pytz.utc.localize(utc_time)\n",
    "    \n",
    "    def __init__(self, name, balance):\n",
    "        self.name = name\n",
    "        self.balance = balance\n",
    "        self.transaction_list = []\n",
    "        print('Account Created for {}!'.format(name))\n",
    "        \n",
    "    \n",
    "    def deposit(self, amount):\n",
    "        if amount > 0:\n",
    "            self.balance += amount\n",
    "        \n",
    "        self.transaction_list.append((pytz.utc.localize(datetime.datetime.utcnow()), amount))\n",
    "        \n",
    "        self.show_balance()\n",
    "            \n",
    "    \n",
    "    def withdraw(self, amount):\n",
    "        if 0 <= amount <= self.balance:\n",
    "            self.balance -= amount\n",
    "        else:\n",
    "            print('You do not have sufficient funds to withdraw this amount!')\n",
    "        \n",
    "        self.show_balance()\n",
    "        \n",
    "    def show_balance(self):\n",
    "        print('Balance is {}'.format(self.balance))\n",
    "    \n",
    "    \n",
    "    def show_transactions(self):\n",
    "        for date, amount in self.transaction_list:\n",
    "            if amount > 0:\n",
    "                 tran_type = 'deposited'\n",
    "            else:\n",
    "                amount *= -1\n",
    "            print('{:6} {} on {} UTC'.format(amount, tran_type, date))\n",
    "                                     \n",
    "        \n",
    "if __name__ == '__main__':\n",
    "    kp = Account('KP', 0)\n",
    "    kp.deposit(1000)\n",
    "    kp.withdraw(500)\n",
    "    kp.withdraw(100000)\n",
    "    \n",
    "    kp.show_transactions()\n",
    "    \n",
    "# Although this code works, there is acutally an issue with it. What is it?\n",
    "\n",
    "# My Guess, you can modify the account balance, without using the methods, lets test it...\n",
    "    kp.balance = 1000000000000\n",
    "    kp.show_balance()"
   ]
  },
  {
   "cell_type": "code",
   "execution_count": null,
   "metadata": {},
   "outputs": [],
   "source": []
  },
  {
   "cell_type": "code",
   "execution_count": null,
   "metadata": {},
   "outputs": [],
   "source": []
  },
  {
   "cell_type": "code",
   "execution_count": null,
   "metadata": {},
   "outputs": [],
   "source": []
  },
  {
   "cell_type": "code",
   "execution_count": null,
   "metadata": {},
   "outputs": [],
   "source": []
  },
  {
   "cell_type": "code",
   "execution_count": null,
   "metadata": {},
   "outputs": [],
   "source": []
  }
 ],
 "metadata": {
  "kernelspec": {
   "display_name": "Python 3",
   "language": "python",
   "name": "python3"
  },
  "language_info": {
   "codemirror_mode": {
    "name": "ipython",
    "version": 3
   },
   "file_extension": ".py",
   "mimetype": "text/x-python",
   "name": "python",
   "nbconvert_exporter": "python",
   "pygments_lexer": "ipython3",
   "version": "3.7.3"
  }
 },
 "nbformat": 4,
 "nbformat_minor": 2
}
