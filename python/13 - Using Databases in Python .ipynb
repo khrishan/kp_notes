{
 "cells": [
  {
   "cell_type": "code",
   "execution_count": null,
   "metadata": {},
   "outputs": [],
   "source": [
    "__author__ = 'Khrishan Patel'"
   ]
  },
  {
   "cell_type": "markdown",
   "metadata": {},
   "source": [
    "## Introducion to Databases\n",
    "\n",
    "SQL was developed from Edgar F. Codd's work on relational databases in the 1970s, and became an ANSI standard in 1986.\n",
    "\n",
    "ANSI (American National Standards Institute) is the primary organization for fostering the development of technology standards in the United States. (bearing in mind they thought they ruled the world)\n",
    "\n",
    "SQLLite has been around since 2000 and is a very fast and very stable stand-alone database. In fact, it's the most widely deployed database engine in the world. It's actually close to being the most widely deployed piece of software of any kind."
   ]
  },
  {
   "cell_type": "markdown",
   "metadata": {},
   "source": [
    "## Database Terminology\n",
    "\n",
    "| Jargon | Definition |\n",
    "|------|------|\n",
    "| `Database` | the container for all the data that you store. In sqllite, the entire database is stored in a single file.|\n",
    "|`Database Dictionary`|provides a comprehensive list of the structure and types of data in the database|\n",
    "|`Table`|A collection of related data held in the database.|\n",
    "|`Field` / `Column` |The basic unit of data in a table. (i.e. Name)|\n",
    "|`BLOB`|`B`inary `L`arge `OB`ject.|\n",
    "|`Record` / `Row`| A single set of data containing all the columns in the table|\n",
    "|`Flat File Database`|Stores all data in a single table, potentially resulting in a lot of duplication.|\n",
    "|`View`|A selection of rows and columns, possibly from more than one table.|\n",
    "|``||\n",
    "|``||\n",
    "|``||\n",
    "|``||\n",
    "|``||\n",
    "|``||\n",
    "|``||\n",
    "|``||\n"
   ]
  },
  {
   "cell_type": "code",
   "execution_count": null,
   "metadata": {},
   "outputs": [],
   "source": []
  },
  {
   "cell_type": "code",
   "execution_count": null,
   "metadata": {},
   "outputs": [],
   "source": []
  },
  {
   "cell_type": "code",
   "execution_count": null,
   "metadata": {},
   "outputs": [],
   "source": []
  },
  {
   "cell_type": "code",
   "execution_count": null,
   "metadata": {},
   "outputs": [],
   "source": []
  },
  {
   "cell_type": "code",
   "execution_count": null,
   "metadata": {},
   "outputs": [],
   "source": []
  },
  {
   "cell_type": "code",
   "execution_count": null,
   "metadata": {},
   "outputs": [],
   "source": []
  },
  {
   "cell_type": "code",
   "execution_count": null,
   "metadata": {},
   "outputs": [],
   "source": []
  },
  {
   "cell_type": "code",
   "execution_count": null,
   "metadata": {},
   "outputs": [],
   "source": []
  },
  {
   "cell_type": "code",
   "execution_count": null,
   "metadata": {},
   "outputs": [],
   "source": []
  }
 ],
 "metadata": {
  "kernelspec": {
   "display_name": "Python 3",
   "language": "python",
   "name": "python3"
  },
  "language_info": {
   "codemirror_mode": {
    "name": "ipython",
    "version": 3
   },
   "file_extension": ".py",
   "mimetype": "text/x-python",
   "name": "python",
   "nbconvert_exporter": "python",
   "pygments_lexer": "ipython3",
   "version": "3.7.3"
  }
 },
 "nbformat": 4,
 "nbformat_minor": 2
}
