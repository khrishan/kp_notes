{
 "cells": [
  {
   "cell_type": "code",
   "execution_count": 1,
   "metadata": {},
   "outputs": [],
   "source": [
    "__author__ = 'Khrishan Patel'"
   ]
  },
  {
   "cell_type": "markdown",
   "metadata": {},
   "source": [
    "# Lists\n",
    "\n",
    "For more official information about this topic, you can go to [https://docs.python.org/3/library/stdtypes.html#sequence-types-list-tuple-range](https://docs.python.org/3/library/stdtypes.html#sequence-types-list-tuple-range)\n",
    "\n",
    "A list is a 'sequence of things' that are 'homogeneous' (all items are of the same type)."
   ]
  },
  {
   "cell_type": "code",
   "execution_count": 2,
   "metadata": {},
   "outputs": [
    {
     "name": "stdout",
     "output_type": "stream",
     "text": [
      "Please enter an IP address: 1.2.3.4\n",
      "3\n"
     ]
    }
   ],
   "source": [
    "ip_addr = input('Please enter an IP address: ')\n",
    "print(ip_addr.count('.'))"
   ]
  },
  {
   "cell_type": "code",
   "execution_count": 3,
   "metadata": {},
   "outputs": [
    {
     "name": "stdout",
     "output_type": "stream",
     "text": [
      "This parrot is non pinin.\n",
      "This parrot is no more.\n",
      "This parrot is a stiff.\n",
      "This parrot is bereft of life.\n",
      "This parrot is A Norwegian Blue.\n"
     ]
    }
   ],
   "source": [
    "parrot_list = ['non pinin', 'no more', 'a stiff', 'bereft of life']\n",
    "\n",
    "parrot_list.append('A Norwegian Blue')\n",
    "\n",
    "for state in parrot_list:\n",
    "    print('This parrot is {}.'.format(state))"
   ]
  },
  {
   "cell_type": "code",
   "execution_count": 4,
   "metadata": {},
   "outputs": [
    {
     "name": "stdout",
     "output_type": "stream",
     "text": [
      "[2, 4, 6, 8, 1, 3, 5, 7, 9]\n"
     ]
    }
   ],
   "source": [
    "even = [2,4,6,8]\n",
    "odd = [1,3,5,7,9]\n",
    "\n",
    "numbers = even + odd\n",
    "\n",
    "print(numbers)"
   ]
  },
  {
   "cell_type": "code",
   "execution_count": 5,
   "metadata": {},
   "outputs": [
    {
     "name": "stdout",
     "output_type": "stream",
     "text": [
      "[2, 4, 6, 8, 1, 3, 5, 7, 9]\n",
      "[1, 2, 3, 4, 5, 6, 7, 8, 9]\n",
      "The lists are not equal.\n",
      "The lists are equal.\n"
     ]
    }
   ],
   "source": [
    "# Works on the existing variable, doesn't create a new object\n",
    "\n",
    "# numbers.sort() # Doesn't return sorted list (i.e. print(numbers.sort()) returns None)\n",
    "\n",
    "print(numbers)\n",
    "\n",
    "# sorted() is a built in function for Python3\n",
    "\n",
    "numbers_in_order = sorted(numbers) # Creates new object, so print(sorted(numbers)) would work\n",
    "\n",
    "print(numbers_in_order) \n",
    "\n",
    "if numbers == numbers_in_order:\n",
    "    print('The lists are equal.')\n",
    "else:\n",
    "    print('The lists are not equal.')\n",
    "    \n",
    "if numbers_in_order == sorted(numbers):\n",
    "    print('The lists are equal.')\n",
    "else:\n",
    "    print('The lists are not equal.')"
   ]
  },
  {
   "cell_type": "code",
   "execution_count": 6,
   "metadata": {},
   "outputs": [
    {
     "name": "stdout",
     "output_type": "stream",
     "text": [
      "List 1 : []\n",
      "List 2 : []\n",
      "The lists are equal.\n",
      "['T', 'h', 'e', ' ', 'l', 'i', 's', 't', 's', ' ', 'a', 'r', 'e', ' ', 'e', 'q', 'u', 'a', 'l']\n"
     ]
    }
   ],
   "source": [
    "list_1 = []\n",
    "list_2 = list() # Both ways creates an empty list.\n",
    "\n",
    "print('List 1 : {}'.format(list_1))\n",
    "print('List 2 : {}'.format(list_2))\n",
    "\n",
    "if list_1 == list_2:\n",
    "    print('The lists are equal.')\n",
    "    \n",
    "print(list('The lists are equal'))"
   ]
  },
  {
   "cell_type": "code",
   "execution_count": 7,
   "metadata": {},
   "outputs": [
    {
     "name": "stdout",
     "output_type": "stream",
     "text": [
      "[8, 6, 4, 2]\n",
      "True\n",
      "False\n"
     ]
    }
   ],
   "source": [
    "even = [2,4,6,8]\n",
    "another_even = even\n",
    "another_even.sort(reverse=True) # another_even will reference even, not create a new object.\n",
    "\n",
    "print(even)\n",
    "\n",
    "print(another_even is even)\n",
    "\n",
    "another_even = list(even) # This will create new object, making the statement below false.\n",
    "\n",
    "print(another_even is even)\n"
   ]
  },
  {
   "cell_type": "code",
   "execution_count": 8,
   "metadata": {},
   "outputs": [
    {
     "name": "stdout",
     "output_type": "stream",
     "text": [
      "[[2, 4, 6, 8], [1, 3, 5, 7, 9]]\n"
     ]
    }
   ],
   "source": [
    "even = [2,4,6,8]\n",
    "odd = [1,3,5,7,9]\n",
    "\n",
    "numbers = [even, odd]\n",
    "\n",
    "print(numbers)"
   ]
  },
  {
   "cell_type": "code",
   "execution_count": 9,
   "metadata": {},
   "outputs": [
    {
     "name": "stdout",
     "output_type": "stream",
     "text": [
      "['egg', 'sausage', 'bacon']\n"
     ]
    }
   ],
   "source": [
    "menu = []\n",
    "menu.append(['egg', 'spam', 'bacon'])\n",
    "menu.append(['egg', 'sausage', 'bacon'])\n",
    "menu.append(['egg', 'spam'])\n",
    "menu.append(['egg', 'bacon', 'spam'])\n",
    "menu.append(['egg', 'bacon', 'sausage', 'spam'])\n",
    "menu.append(['spam', 'bacon', 'sausage', 'spam'])\n",
    "menu.append(['spam', 'egg', 'spam', 'spam', 'bacon', 'spam'])\n",
    "menu.append(['spam', 'egg', 'sausage', 'spam'])\n",
    "\n",
    "for meal in menu:\n",
    "    if not 'spam' in meal:\n",
    "        print(meal)\n"
   ]
  },
  {
   "cell_type": "markdown",
   "metadata": {},
   "source": [
    "## Challenge : Lists\n",
    "\n",
    "Add to the program above so that if it finds a meal without spam, it prints out each of the ingredients of the meal.\n"
   ]
  },
  {
   "cell_type": "code",
   "execution_count": 10,
   "metadata": {},
   "outputs": [
    {
     "name": "stdout",
     "output_type": "stream",
     "text": [
      "egg\n",
      "sausage\n",
      "bacon\n"
     ]
    }
   ],
   "source": [
    "menu = []\n",
    "menu.append(['egg', 'spam', 'bacon'])\n",
    "menu.append(['egg', 'sausage', 'bacon'])\n",
    "menu.append(['egg', 'spam'])\n",
    "menu.append(['egg', 'bacon', 'spam'])\n",
    "menu.append(['egg', 'bacon', 'sausage', 'spam'])\n",
    "menu.append(['spam', 'bacon', 'sausage', 'spam'])\n",
    "menu.append(['spam', 'egg', 'spam', 'spam', 'bacon', 'spam'])\n",
    "menu.append(['spam', 'egg', 'sausage', 'spam'])\n",
    "\n",
    "for meal in menu:\n",
    "    if not 'spam' in meal:\n",
    "        for item in meal:\n",
    "            print(item)"
   ]
  },
  {
   "cell_type": "markdown",
   "metadata": {},
   "source": [
    "# Iterators\n",
    "\n",
    "Iterator is an object which represents a stream of data, in which it returns items in the stream of data - one element at a time."
   ]
  },
  {
   "cell_type": "code",
   "execution_count": 11,
   "metadata": {},
   "outputs": [
    {
     "name": "stdout",
     "output_type": "stream",
     "text": [
      "1\n",
      "2\n",
      "3\n",
      "4\n",
      "5\n",
      "6\n",
      "7\n",
      "8\n",
      "9\n",
      "0\n"
     ]
    }
   ],
   "source": [
    "string = '1234567890'\n",
    "\n",
    "# for loop uses iterator, when iterator returns error (no more items), it ends.\n",
    "# For loop handles all that for you.\n",
    "for char in string:\n",
    "    print(char)"
   ]
  },
  {
   "cell_type": "code",
   "execution_count": 12,
   "metadata": {},
   "outputs": [
    {
     "name": "stdout",
     "output_type": "stream",
     "text": [
      "1\n",
      "2\n",
      "3\n",
      "4\n",
      "5\n",
      "6\n",
      "7\n",
      "8\n",
      "9\n",
      "0\n"
     ]
    }
   ],
   "source": [
    "my_iterator = iter(string)\n",
    "\n",
    "print(next(my_iterator))\n",
    "print(next(my_iterator))\n",
    "print(next(my_iterator))\n",
    "print(next(my_iterator))\n",
    "print(next(my_iterator))\n",
    "print(next(my_iterator))\n",
    "print(next(my_iterator))\n",
    "print(next(my_iterator))\n",
    "print(next(my_iterator))\n",
    "print(next(my_iterator))\n",
    "#print(next(my_iterator)) <- This will create an error (StopIteration)"
   ]
  },
  {
   "cell_type": "markdown",
   "metadata": {},
   "source": [
    "## Challenge - Iterators\n",
    "\n",
    "Create a list of items then create an iterator using the `iter()` function.\n",
    "\n",
    "Use a for loop to loop 'n' times, where n is the number of items in your list.\n",
    "\n",
    "Each time round the loop, use `next()` on your list to print the next item."
   ]
  },
  {
   "cell_type": "code",
   "execution_count": 13,
   "metadata": {},
   "outputs": [
    {
     "name": "stdout",
     "output_type": "stream",
     "text": [
      "a\n",
      "b\n",
      "c\n",
      "d\n",
      "e\n"
     ]
    }
   ],
   "source": [
    "list_1 = ['a','b','c', 'd', 'e']\n",
    "\n",
    "my_iter = iter(list_1)\n",
    "\n",
    "for i in range(0, len(list_1)):\n",
    "    print(next(my_iter))"
   ]
  },
  {
   "cell_type": "markdown",
   "metadata": {},
   "source": [
    "# Ranges\n",
    "\n",
    "Ranges generate a list of numbers, which is generally used to iterate over with for loops."
   ]
  },
  {
   "cell_type": "code",
   "execution_count": 14,
   "metadata": {},
   "outputs": [
    {
     "name": "stdout",
     "output_type": "stream",
     "text": [
      "[0, 1, 2, 3, 4, 5, 6, 7, 8, 9]\n"
     ]
    }
   ],
   "source": [
    "my_list = list(range(10))\n",
    "print(my_list)"
   ]
  },
  {
   "cell_type": "code",
   "execution_count": 15,
   "metadata": {},
   "outputs": [
    {
     "name": "stdout",
     "output_type": "stream",
     "text": [
      "[0, 2, 4, 6, 8]\n",
      "[1, 3, 5, 7, 9]\n"
     ]
    }
   ],
   "source": [
    "even = list(range(0, 10, 2))\n",
    "odd = list(range(1, 10, 2))\n",
    "\n",
    "print(even)\n",
    "print(odd)"
   ]
  },
  {
   "cell_type": "code",
   "execution_count": 18,
   "metadata": {},
   "outputs": [
    {
     "name": "stdout",
     "output_type": "stream",
     "text": [
      "4\n",
      "e\n"
     ]
    }
   ],
   "source": [
    "my_string = 'abcdefghijklmnopqrstuvwxyz'\n",
    "\n",
    "print(my_string.index('e'))\n",
    "print(my_string[4])"
   ]
  },
  {
   "cell_type": "code",
   "execution_count": 19,
   "metadata": {},
   "outputs": [
    {
     "name": "stdout",
     "output_type": "stream",
     "text": [
      "3\n"
     ]
    }
   ],
   "source": [
    "small_decimals = range(0,10)\n",
    "\n",
    "print(small_decimals.index(3))"
   ]
  },
  {
   "cell_type": "code",
   "execution_count": 20,
   "metadata": {},
   "outputs": [
    {
     "name": "stdout",
     "output_type": "stream",
     "text": [
      "1971\n"
     ]
    }
   ],
   "source": [
    "odd = range(1, 10000, 2)\n",
    "print(odd[985])"
   ]
  },
  {
   "cell_type": "code",
   "execution_count": 22,
   "metadata": {},
   "outputs": [
    {
     "name": "stdout",
     "output_type": "stream",
     "text": [
      "Please enter a positive number that is less than 1 million : 49\n",
      "49 is divisible by seven.\n"
     ]
    }
   ],
   "source": [
    "sevens = range(7, 1000000, 7)\n",
    "x = int(input('Please enter a positive number that is less than 1 million : '))\n",
    "\n",
    "if x in sevens:\n",
    "    print('{} is divisible by seven.'.format(x))"
   ]
  },
  {
   "cell_type": "code",
   "execution_count": 25,
   "metadata": {},
   "outputs": [
    {
     "name": "stdout",
     "output_type": "stream",
     "text": [
      "range(0, 10, 2)\n",
      "range(3, 40, 3)\n",
      "3\n",
      "6\n",
      "9\n",
      "12\n",
      "15\n",
      "18\n",
      "21\n",
      "24\n",
      "27\n",
      "30\n",
      "33\n",
      "36\n",
      "39\n",
      "========================================\n",
      "3\n",
      "6\n",
      "9\n",
      "12\n",
      "15\n",
      "18\n",
      "21\n",
      "24\n",
      "27\n",
      "30\n",
      "33\n",
      "36\n",
      "39\n"
     ]
    }
   ],
   "source": [
    "decimals = range(0, 100)\n",
    "print(my_range)\n",
    "\n",
    "my_range = decimals[3:40:3] # start at 3, up until 39, step 3 - can also have negative step value e.g. range(99, 0, -2)\n",
    "print(my_range)\n",
    "\n",
    "for i in my_range:\n",
    "    print(i)\n",
    "\n",
    "print('=' * 40)\n",
    "\n",
    "for i in range(3, 40, 3):\n",
    "    print(i)"
   ]
  },
  {
   "cell_type": "code",
   "execution_count": 27,
   "metadata": {},
   "outputs": [
    {
     "name": "stdout",
     "output_type": "stream",
     "text": [
      "Python is a very powerful language.\n"
     ]
    }
   ],
   "source": [
    "back_string = '.egaugnal lufrewop yrev a si nohtyP'\n",
    "print(back_string[::-1])"
   ]
  },
  {
   "cell_type": "markdown",
   "metadata": {},
   "source": [
    "# Tuples\n",
    "\n",
    "Tuples are **\"ordered set of data\"**, which can be non homogeneous (i.e. different types) \n",
    "\n",
    "They are 'immutable' - you cannot add more items to them, once they are created. But you can 're-reference' the variable name to something else afterwards."
   ]
  },
  {
   "cell_type": "code",
   "execution_count": 28,
   "metadata": {},
   "outputs": [
    {
     "name": "stdout",
     "output_type": "stream",
     "text": [
      "('a', 'b', 'c')\n",
      "a b c\n",
      "('a', 'b', 'c')\n"
     ]
    }
   ],
   "source": [
    "t = 'a', 'b', 'c'\n",
    "print(t)\n",
    "\n",
    "print('a', 'b', 'c')\n",
    "print(('a', 'b', 'c')) # Brackets used to avoid syntactic ambiguity."
   ]
  },
  {
   "cell_type": "code",
   "execution_count": 32,
   "metadata": {},
   "outputs": [
    {
     "name": "stdout",
     "output_type": "stream",
     "text": [
      "('Ride the Lightning', 'Metallica', 1984)\n",
      "Ride the Lightning\n",
      "Metallica\n",
      "1984\n"
     ]
    }
   ],
   "source": [
    "welcome   = 'Welcome to my Nightmare', 'Alice Cooper', 1975\n",
    "bad       = 'Bad Company', 'Bad Company', 1974\n",
    "budgie    = 'Nightflight', 'Budgie', 1981\n",
    "imelda    = 'More Mayhem', 'Imelda May', 2011\n",
    "metallica = 'Ride the Lightning', 'Metallica', 1984\n",
    "\n",
    "print(metallica)\n",
    "print(metallica[0])\n",
    "print(metallica[1])\n",
    "print(metallica[2])\n",
    "\n",
    "title, artist, year = imelda # This is known as 'unpacking' a tuple.\n",
    "print(title)\n",
    "print(artist)\n",
    "print(year)"
   ]
  },
  {
   "cell_type": "code",
   "execution_count": 33,
   "metadata": {},
   "outputs": [
    {
     "name": "stdout",
     "output_type": "stream",
     "text": [
      "12\n",
      "12 13\n",
      "a is 13\n",
      "b is 12\n"
     ]
    }
   ],
   "source": [
    "# You can assign a value to multiple variables but also the reverse is the same\n",
    "\n",
    "# This is achievable as the right hand side of an expression is done first.\n",
    "\n",
    "a = b = c = 12\n",
    "print(c)\n",
    "\n",
    "a, b = 12, 13\n",
    "print(a, b)\n",
    "\n",
    "a, b = b, a\n",
    "\n",
    "print('a is {}'.format(a))\n",
    "print('b is {}'.format(b))\n",
    "\n"
   ]
  },
  {
   "cell_type": "code",
   "execution_count": 35,
   "metadata": {},
   "outputs": [
    {
     "name": "stdout",
     "output_type": "stream",
     "text": [
      "('More Mayhem', 'Imelda May', 2011, ((1, 'Pulling the Rug'), (2, 'Psycho'), (3, 'Mayhem'), (4, 'Kentish Town Waltz')))\n",
      "More Mayhem\n",
      "Imelda May\n",
      "2011\n",
      "((1, 'Pulling the Rug'), (2, 'Psycho'), (3, 'Mayhem'), (4, 'Kentish Town Waltz'))\n"
     ]
    }
   ],
   "source": [
    "imelda = 'More Mayhem', 'Imelda May', 2011, (\n",
    "    (1, 'Pulling the Rug'), (2, 'Psycho'), (3, 'Mayhem'), (4, 'Kentish Town Waltz')\n",
    ")\n",
    "\n",
    "title, artist, year, tracks = imelda\n",
    "\n",
    "print(imelda)\n",
    "print(title)\n",
    "print(artist)\n",
    "print(year)\n",
    "print(tracks)"
   ]
  },
  {
   "cell_type": "markdown",
   "metadata": {},
   "source": [
    "# Challenge - Tuple\n",
    "\n",
    "Given the tuple below that represent the Imelda May track \"More Mayhem\", write code to print the album details, followed by a listing of all the tracks in the album.\n",
    "\n",
    "Indent the tracks by a single tab stop when printing them (remember that you can pass more than one item to the print function, seperating them with a comma.)"
   ]
  },
  {
   "cell_type": "code",
   "execution_count": 38,
   "metadata": {},
   "outputs": [
    {
     "name": "stdout",
     "output_type": "stream",
     "text": [
      "Title  : More Mayhem\n",
      "Artist : Imelda May\n",
      "Year   : 2011\n",
      "Tracks :\n"
     ]
    },
    {
     "ename": "TypeError",
     "evalue": "'separator' is an invalid keyword argument for this function",
     "output_type": "error",
     "traceback": [
      "\u001b[0;31m---------------------------------------------------------------------------\u001b[0m",
      "\u001b[0;31mTypeError\u001b[0m                                 Traceback (most recent call last)",
      "\u001b[0;32m<ipython-input-38-82872eff3a2c>\u001b[0m in \u001b[0;36m<module>\u001b[0;34m()\u001b[0m\n\u001b[1;32m     12\u001b[0m \u001b[0;32mfor\u001b[0m \u001b[0mtrack\u001b[0m \u001b[0;32min\u001b[0m \u001b[0mtracks\u001b[0m\u001b[0;34m:\u001b[0m\u001b[0;34m\u001b[0m\u001b[0m\n\u001b[1;32m     13\u001b[0m     \u001b[0mnumber\u001b[0m\u001b[0;34m,\u001b[0m \u001b[0mtitle\u001b[0m \u001b[0;34m=\u001b[0m \u001b[0mtrack\u001b[0m\u001b[0;34m\u001b[0m\u001b[0m\n\u001b[0;32m---> 14\u001b[0;31m     \u001b[0mprint\u001b[0m\u001b[0;34m(\u001b[0m\u001b[0mnumber\u001b[0m\u001b[0;34m,\u001b[0m \u001b[0mtitle\u001b[0m\u001b[0;34m,\u001b[0m \u001b[0mseparator\u001b[0m\u001b[0;34m=\u001b[0m\u001b[0;34m'\\t'\u001b[0m\u001b[0;34m)\u001b[0m\u001b[0;34m\u001b[0m\u001b[0m\n\u001b[0m",
      "\u001b[0;31mTypeError\u001b[0m: 'separator' is an invalid keyword argument for this function"
     ]
    }
   ],
   "source": [
    "imelda = 'More Mayhem', 'Imelda May', 2011, (\n",
    "    (1, 'Pulling the Rug'), (2, 'Psycho'), (3, 'Mayhem'), (4, 'Kentish Town Waltz')\n",
    ")\n",
    "\n",
    "title, artist, year, tracks = imelda\n",
    "\n",
    "print('Title  : {}'.format(title))\n",
    "print('Artist : {}'.format(artist))\n",
    "print('Year   : {}'.format(year))\n",
    "print('Tracks :')\n",
    "\n",
    "for track in tracks:\n",
    "    number, title = track\n",
    "    print(number, separator='\\t')"
   ]
  },
  {
   "cell_type": "code",
   "execution_count": null,
   "metadata": {},
   "outputs": [],
   "source": []
  }
 ],
 "metadata": {
  "kernelspec": {
   "display_name": "Python 3",
   "language": "python",
   "name": "python3"
  },
  "language_info": {
   "codemirror_mode": {
    "name": "ipython",
    "version": 3
   },
   "file_extension": ".py",
   "mimetype": "text/x-python",
   "name": "python",
   "nbconvert_exporter": "python",
   "pygments_lexer": "ipython3",
   "version": "3.6.6"
  }
 },
 "nbformat": 4,
 "nbformat_minor": 2
}
