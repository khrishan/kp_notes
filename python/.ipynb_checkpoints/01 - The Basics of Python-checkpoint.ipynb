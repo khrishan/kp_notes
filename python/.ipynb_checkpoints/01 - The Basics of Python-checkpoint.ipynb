{
 "cells": [
  {
   "cell_type": "code",
   "execution_count": 1,
   "metadata": {},
   "outputs": [],
   "source": [
    "__author__ = 'Khrishan Patel' # Seems like it's good practice to do this at the top of every file."
   ]
  },
  {
   "cell_type": "markdown",
   "metadata": {},
   "source": [
    "# Getting To Know Python\n",
    "\n",
    "Python is an object-orientated interpreted language.\n",
    "\n",
    "Named after the \"Monty Python's Flying Circus\"."
   ]
  },
  {
   "cell_type": "code",
   "execution_count": 2,
   "metadata": {},
   "outputs": [],
   "source": [
    "print('Hello World!')\n",
    "print(1 + 2)\n",
    "print(7 * 6)\n",
    "print()\n",
    "print('The End')\n",
    "\n",
    "print(\"Python's string are easy to use!\")\n",
    "print('We can use \"quotes\" in strings!')\n",
    "\n",
    "print('Hello ' + 'World!')"
   ]
  },
  {
   "cell_type": "code",
   "execution_count": 3,
   "metadata": {},
   "outputs": [],
   "source": [
    "greeting = 'Hello'\n",
    "name = 'Khrishan'\n",
    "\n",
    "print(greeting + ' ' + name)"
   ]
  },
  {
   "cell_type": "markdown",
   "metadata": {},
   "source": [
    "## Printing challenges \\#1\n",
    "\n",
    "a) Write the code to print out the string\n",
    "\n",
    "My hovercraft is full of eels"
   ]
  },
  {
   "cell_type": "code",
   "execution_count": 4,
   "metadata": {},
   "outputs": [
    {
     "name": "stdout",
     "output_type": "stream",
     "text": [
      "My hovercraft is full of eels\n"
     ]
    }
   ],
   "source": [
    "print('My hovercraft is full of eels')"
   ]
  },
  {
   "cell_type": "markdown",
   "metadata": {},
   "source": [
    "b) Write the code to print the answer to the calculation __6 times 7__"
   ]
  },
  {
   "cell_type": "code",
   "execution_count": 5,
   "metadata": {},
   "outputs": [
    {
     "name": "stdout",
     "output_type": "stream",
     "text": [
      "42\n"
     ]
    }
   ],
   "source": [
    "print(6 * 7)"
   ]
  },
  {
   "cell_type": "markdown",
   "metadata": {},
   "source": [
    "# Understanding More About Python\n",
    "\n",
    "## Get User Input"
   ]
  },
  {
   "cell_type": "code",
   "execution_count": 6,
   "metadata": {},
   "outputs": [
    {
     "name": "stdout",
     "output_type": "stream",
     "text": [
      "Please enter your name : Khrishan\n",
      "\n",
      "Hello Khrishan\n"
     ]
    }
   ],
   "source": [
    "greeting = 'Hello'\n",
    "name = input('Please enter your name : ')\n",
    "print()\n",
    "print(greeting + ' ' + name)"
   ]
  },
  {
   "cell_type": "markdown",
   "metadata": {},
   "source": [
    "## The Backslash\n",
    "The backslash character has a special meaning in strings.\n",
    "\n",
    "It is used to escape the character following it which gives it a special meaning."
   ]
  },
  {
   "cell_type": "code",
   "execution_count": 7,
   "metadata": {},
   "outputs": [
    {
     "name": "stdout",
     "output_type": "stream",
     "text": [
      "This string has been\n",
      "split over\n",
      "several\n",
      "lines\n"
     ]
    }
   ],
   "source": [
    "split_string = 'This string has been\\nsplit over\\nseveral\\nlines'\n",
    "print(split_string)"
   ]
  },
  {
   "cell_type": "code",
   "execution_count": 8,
   "metadata": {},
   "outputs": [
    {
     "name": "stdout",
     "output_type": "stream",
     "text": [
      "1\t2\t3\t4\t5\t\n"
     ]
    }
   ],
   "source": [
    "tabbed_string = '1\\t2\\t3\\t4\\t5\\t'\n",
    "print(tabbed_string)"
   ]
  },
  {
   "cell_type": "code",
   "execution_count": 9,
   "metadata": {},
   "outputs": [
    {
     "name": "stdout",
     "output_type": "stream",
     "text": [
      "The pet shop owner said 'No, no, 'e's uh... he's resting!'\n"
     ]
    }
   ],
   "source": [
    "print('The pet shop owner said \\'No, no, \\'e\\'s uh... he\\'s resting!\\'')"
   ]
  },
  {
   "cell_type": "code",
   "execution_count": 10,
   "metadata": {},
   "outputs": [
    {
     "name": "stdout",
     "output_type": "stream",
     "text": [
      "This string has been\n",
      "split over\n",
      "several lines.\n",
      "\n"
     ]
    }
   ],
   "source": [
    "another_split_string = '''This string has been\n",
    "split over\n",
    "several lines.\n",
    "'''\n",
    "print(another_split_string)"
   ]
  },
  {
   "cell_type": "markdown",
   "metadata": {},
   "source": [
    "## Printing Challenges \\#2\n",
    "\n",
    "c) Write code that will produce the following output.\n",
    "\n",
    "   All the text shouldd appear in your program's output.\n",
    "   \n",
    "   ```\n",
    "   Number 1    The Larch\n",
    "   Number 2    The Horse Chestnut\n",
    "   ```"
   ]
  },
  {
   "cell_type": "code",
   "execution_count": 11,
   "metadata": {},
   "outputs": [
    {
     "name": "stdout",
     "output_type": "stream",
     "text": [
      "Number 1\t The Larch\n",
      "Number 2\t The Horse Chestnut\n"
     ]
    }
   ],
   "source": [
    "print('Number 1\\t The Larch\\nNumber 2\\t The Horse Chestnut')"
   ]
  },
  {
   "cell_type": "markdown",
   "metadata": {},
   "source": [
    "# Storing Items in Variables"
   ]
  },
  {
   "cell_type": "code",
   "execution_count": 12,
   "metadata": {},
   "outputs": [
    {
     "name": "stdout",
     "output_type": "stream",
     "text": [
      "Hello Khrishan\n",
      "24\n"
     ]
    }
   ],
   "source": [
    "greeting = 'Khrishan'\n",
    "Greeting = 'Patel' # This one is different to the one above.\n",
    "_my_name = 'Geoff'\n",
    "KP24 = 'Good'\n",
    "KP_Is_24 = 'Hello'\n",
    "\n",
    "print(KP_Is_24 + ' ' + greeting)\n",
    "\n",
    "age = 24\n",
    "\n",
    "print(age)\n",
    "\n",
    "#print(greeting + age) # This line will error - can't convert int to str\n"
   ]
  },
  {
   "cell_type": "markdown",
   "metadata": {},
   "source": [
    "## Basic Mathematics"
   ]
  },
  {
   "cell_type": "code",
   "execution_count": 13,
   "metadata": {},
   "outputs": [
    {
     "name": "stdout",
     "output_type": "stream",
     "text": [
      "15\n",
      "9\n",
      "36\n",
      "1728\n",
      "4.0\n",
      "4\n",
      "0\n"
     ]
    }
   ],
   "source": [
    "a = 12\n",
    "b = 3\n",
    "\n",
    "print(a + b)  # 15\n",
    "print(a - b)  # 9\n",
    "print(a * b)  # 36\n",
    "print(a ** b) # a to the power of b = 1728\n",
    "print(a / b)  # 4.0\n",
    "print(a // b) # 4\n",
    "print(a % b)  # 0"
   ]
  },
  {
   "cell_type": "code",
   "execution_count": 14,
   "metadata": {},
   "outputs": [],
   "source": [
    "#for i in range(1, a / b): # This errors as a/b gives a float number (to make this work, use //)\n",
    "#    print(i)"
   ]
  },
  {
   "cell_type": "code",
   "execution_count": 15,
   "metadata": {},
   "outputs": [
    {
     "name": "stdout",
     "output_type": "stream",
     "text": [
      "-35.0\n"
     ]
    }
   ],
   "source": [
    "print(a + b / 3 - 4 * 12) # This follows BIDMAS!!!"
   ]
  },
  {
   "cell_type": "markdown",
   "metadata": {},
   "source": [
    "## Intger Divison Challenge\n",
    "\n",
    "You have a shop selling buns for `$2.40` each. A customer comes in with `$15`, and would like to buy as many buns as possible.\n",
    "\n",
    "Complete the code to calulate how many buns the customer can afford.\n",
    "\n",
    "```\n",
    "bun_price = 2.4\n",
    "money = 15\n",
    "```"
   ]
  },
  {
   "cell_type": "code",
   "execution_count": 16,
   "metadata": {},
   "outputs": [
    {
     "name": "stdout",
     "output_type": "stream",
     "text": [
      "6\n"
     ]
    }
   ],
   "source": [
    "bun_price = 2.4\n",
    "money = 15\n",
    "buns = 0\n",
    "while money > bun_price:\n",
    "    buns += 1\n",
    "    money -= bun_price\n",
    "\n",
    "print(buns)"
   ]
  },
  {
   "cell_type": "markdown",
   "metadata": {},
   "source": [
    "# More About Variables and Strings\n",
    "\n",
    "Strings are a 'sequence' datatype - because a string can be thought of as a 'sequence of characters'."
   ]
  },
  {
   "cell_type": "code",
   "execution_count": 17,
   "metadata": {},
   "outputs": [
    {
     "name": "stdout",
     "output_type": "stream",
     "text": [
      "Norwegian Blue\n",
      "w\n",
      "e\n",
      "Norweg\n",
      "Norweg\n",
      "ian Blue\n",
      "Bl\n",
      "Nre\n",
      "Nw\n",
      ",,,,,,\n",
      "123456789\n"
     ]
    }
   ],
   "source": [
    "parrot = 'Norwegian Blue'\n",
    "\n",
    "print(parrot)\n",
    "print(parrot[3])     # Prints w (remember indexing starts at 0)\n",
    "print(parrot[-1])    # Prints the last character\n",
    "print(parrot[0:6])   # 6 characters starting at index 0\n",
    "print(parrot[:6])    # Starts automatically from the start\n",
    "print(parrot[6:])    # Start at character with index 6 and print the rest of the characters\n",
    "print(parrot[-4:-2]) # Count backwards 4 characters and then print the next two characters\n",
    "print(parrot[0:6:2]) # start at 0, go up to index 6, in increments of 2 # Prints Nre\n",
    "print(parrot[0:6:3]) # Prints 'Nw '\n",
    "\n",
    "number = '9,223,372,036,854,775,807'\n",
    "print(number[1::4]) # start at index 1, go through whole string and print every 4th index. Result: ,,,,,,\n",
    "\n",
    "numbers = '1 2 3 4 5 6 7 8 9'\n",
    "print(numbers[0::2])"
   ]
  },
  {
   "cell_type": "markdown",
   "metadata": {},
   "source": [
    "## String Operators\n",
    "\n",
    "You can multiply strings"
   ]
  },
  {
   "cell_type": "code",
   "execution_count": 18,
   "metadata": {},
   "outputs": [
    {
     "name": "stdout",
     "output_type": "stream",
     "text": [
      "Hello Hello Hello Hello Hello \n",
      "Hello Hello Hello Hello Hello Hello Hello Hello Hello \n",
      "True\n",
      "True\n",
      "False\n",
      "False\n"
     ]
    }
   ],
   "source": [
    "print('Hello ' * 5)\n",
    "#print('Hello ' * 5 + 4) This fails cause of BIDMAS\n",
    "print('Hello ' * (5 + 4))\n",
    "\n",
    "today = 'friday'\n",
    "print('day' in today)    # True\n",
    "print('fri' in today)    # True\n",
    "print('hello' in today)  # False\n",
    "print('parrot' in 'a;s') # False"
   ]
  },
  {
   "cell_type": "markdown",
   "metadata": {},
   "source": [
    "# String Formatting in Python"
   ]
  },
  {
   "cell_type": "code",
   "execution_count": 19,
   "metadata": {},
   "outputs": [
    {
     "name": "stdout",
     "output_type": "stream",
     "text": [
      "My age is 24 years old!\n",
      "My age is 24 years old!\n",
      "There are 31 days in January, March, May, July, August, October and December.\n",
      "\n",
      "January   : 31\n",
      "February  : 30,\n",
      "March     : 31,\n",
      "April     : 30,\n",
      "May       : 31,\n",
      "June      : 30,\n",
      "July      : 31,\n",
      "August    : 31,\n",
      "September : 30,\n",
      "October   : 31,\n",
      "November  : 30,\n",
      "December  : 31\n",
      "\n",
      "My age is 24 years old!\n",
      "My age is 24 years 6 months!\n"
     ]
    }
   ],
   "source": [
    "age = 24\n",
    "print('My age is ' + str(age) + ' years old!')\n",
    "\n",
    "# Replacement fields\n",
    "print('My age is {0} years old!'.format(age))\n",
    "\n",
    "print('There are {0} days in {1}, {2}, {3}, {4}, {5}, {6} and {7}.'.format(31, 'January', 'March', 'May', \n",
    "        'July', 'August', 'October', 'December'))\n",
    "\n",
    "print('''\n",
    "January   : {2}\n",
    "February  : {1},\n",
    "March     : {2},\n",
    "April     : {1},\n",
    "May       : {2},\n",
    "June      : {1},\n",
    "July      : {2},\n",
    "August    : {2},\n",
    "September : {1},\n",
    "October   : {2},\n",
    "November  : {1},\n",
    "December  : {2}\n",
    "'''.format(28, 30, 31)) # Reusing a format field more than once\n",
    "\n",
    "# String formatting operator - Being Depricated in Python 3\n",
    "# Link to all operators is here : https://docs.python.org/2/library/stdtypes.html#string-formatting\n",
    "\n",
    "print('My age is %d years old!' % age) # %d replace numbers\n",
    "print('My age is %d %s %d %s!' % (age, 'years', 6, 'months')) # %s replace strings."
   ]
  },
  {
   "cell_type": "code",
   "execution_count": 20,
   "metadata": {},
   "outputs": [
    {
     "name": "stdout",
     "output_type": "stream",
     "text": [
      "No.  1 squared is    1 and cubed is    1\n",
      "No.  2 squared is    4 and cubed is    8\n",
      "No.  3 squared is    9 and cubed is   27\n",
      "No.  4 squared is   16 and cubed is   64\n",
      "No.  5 squared is   25 and cubed is  125\n",
      "No.  6 squared is   36 and cubed is  216\n",
      "No.  7 squared is   49 and cubed is  343\n",
      "No.  8 squared is   64 and cubed is  512\n",
      "No.  9 squared is   81 and cubed is  729\n",
      "No. 10 squared is  100 and cubed is 1000\n",
      "No. 11 squared is  121 and cubed is 1331\n",
      "Pi is approximately 3.14285714285714279370154144999105483293533325195312\n"
     ]
    }
   ],
   "source": [
    "# How to add padding (rather than adding spaces manually)\n",
    "# %2d = 2 spaces\n",
    "# %4d = 4 spaces\n",
    "for i in range(1, 12):\n",
    "    print('No. %2d squared is %4d and cubed is %4d' % (i, i ** 2, i ** 3))\n",
    "    \n",
    "# Can also do precision\n",
    "print('Pi is approximately %12.50f' % (22/7))"
   ]
  },
  {
   "cell_type": "code",
   "execution_count": 21,
   "metadata": {},
   "outputs": [
    {
     "name": "stdout",
     "output_type": "stream",
     "text": [
      "No.  1 squared is    1 and cubed is    1\n",
      "No.  2 squared is    4 and cubed is    8\n",
      "No.  3 squared is    9 and cubed is   27\n",
      "No.  4 squared is   16 and cubed is   64\n",
      "No.  5 squared is   25 and cubed is  125\n",
      "No.  6 squared is   36 and cubed is  216\n",
      "No.  7 squared is   49 and cubed is  343\n",
      "No.  8 squared is   64 and cubed is  512\n",
      "No.  9 squared is   81 and cubed is  729\n",
      "No. 10 squared is  100 and cubed is 1000\n",
      "No. 11 squared is  121 and cubed is 1331\n",
      "\n",
      "No.  1 squared is 1    and cubed is 1   \n",
      "No.  2 squared is 4    and cubed is 8   \n",
      "No.  3 squared is 9    and cubed is 27  \n",
      "No.  4 squared is 16   and cubed is 64  \n",
      "No.  5 squared is 25   and cubed is 125 \n",
      "No.  6 squared is 36   and cubed is 216 \n",
      "No.  7 squared is 49   and cubed is 343 \n",
      "No.  8 squared is 64   and cubed is 512 \n",
      "No.  9 squared is 81   and cubed is 729 \n",
      "No. 10 squared is 100  and cubed is 1000\n",
      "No. 11 squared is 121  and cubed is 1331\n",
      "\n",
      "No.  1 squared is    1 and cubed is    1\n",
      "No.  2 squared is    4 and cubed is    8\n",
      "No.  3 squared is    9 and cubed is   27\n",
      "No.  4 squared is   16 and cubed is   64\n",
      "No.  5 squared is   25 and cubed is  125\n",
      "No.  6 squared is   36 and cubed is  216\n",
      "No.  7 squared is   49 and cubed is  343\n",
      "No.  8 squared is   64 and cubed is  512\n",
      "No.  9 squared is   81 and cubed is  729\n",
      "No. 10 squared is  100 and cubed is 1000\n",
      "No. 11 squared is  121 and cubed is 1331\n"
     ]
    }
   ],
   "source": [
    "# How you should do it (from now on)... {x:y}  - x = which item, y = how many spaces\n",
    "\n",
    "\n",
    "for i in range(1, 12):\n",
    "    print('No. {0:2} squared is {1:4} and cubed is {2:4}'.format(i, i ** 2, i ** 3))\n",
    "\n",
    "print()\n",
    "\n",
    "# Left aligned\n",
    "for i in range(1, 12):\n",
    "    print('No. {0:2} squared is {1:<4} and cubed is {2:<4}'.format(i, i ** 2, i ** 3))\n",
    "\n",
    "print()\n",
    "    \n",
    "# Numbers are optional. If you don't put a number, it assumes an order.\n",
    "for i in range(1, 12):\n",
    "    print('No. {:2} squared is {:4} and cubed is {:4}'.format(i, i ** 2, i ** 3))"
   ]
  }
 ],
 "metadata": {
  "kernelspec": {
   "display_name": "Python 3",
   "language": "python",
   "name": "python3"
  },
  "language_info": {
   "codemirror_mode": {
    "name": "ipython",
    "version": 3
   },
   "file_extension": ".py",
   "mimetype": "text/x-python",
   "name": "python",
   "nbconvert_exporter": "python",
   "pygments_lexer": "ipython3",
   "version": "3.6.3"
  }
 },
 "nbformat": 4,
 "nbformat_minor": 2
}
