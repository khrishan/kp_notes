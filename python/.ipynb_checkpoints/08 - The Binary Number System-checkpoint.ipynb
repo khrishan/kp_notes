{
 "cells": [
  {
   "cell_type": "code",
   "execution_count": null,
   "metadata": {},
   "outputs": [],
   "source": [
    "__author__ = 'Khrishan Patel'"
   ]
  },
  {
   "cell_type": "markdown",
   "metadata": {},
   "source": [
    "# Binary Basics\n",
    "\n",
    "[https://www.bbc.co.uk/news/av/technology-20155028/witch-at-bletchley-world-s-oldest-working-digital-computer](https://www.bbc.co.uk/news/av/technology-20155028/witch-at-bletchley-world-s-oldest-working-digital-computer)\n",
    "\n",
    "Binry is a number system that is based on 2 (using digits 0 and 1).\n",
    "\n",
    "PDF from the lecture can be found [here](examples/Binary.pdf)"
   ]
  },
  {
   "cell_type": "code",
   "execution_count": 2,
   "metadata": {},
   "outputs": [
    {
     "name": "stdout",
     "output_type": "stream",
     "text": [
      " 0 in binary is 00000000\n",
      " 1 in binary is 00000001\n",
      " 2 in binary is 00000010\n",
      " 3 in binary is 00000011\n",
      " 4 in binary is 00000100\n",
      " 5 in binary is 00000101\n",
      " 6 in binary is 00000110\n",
      " 7 in binary is 00000111\n",
      " 8 in binary is 00001000\n",
      " 9 in binary is 00001001\n",
      "10 in binary is 00001010\n",
      "11 in binary is 00001011\n",
      "12 in binary is 00001100\n",
      "13 in binary is 00001101\n",
      "14 in binary is 00001110\n",
      "15 in binary is 00001111\n",
      "16 in binary is 00010000\n"
     ]
    }
   ],
   "source": [
    "for i in range(17):\n",
    "    print('{0:>2} in binary is {0:>08b}'.format(i))"
   ]
  },
  {
   "cell_type": "code",
   "execution_count": 7,
   "metadata": {},
   "outputs": [
    {
     "name": "stdout",
     "output_type": "stream",
     "text": [
      "250 in binary is 11111010\n",
      "251 in binary is 11111011\n",
      "252 in binary is 11111100\n",
      "253 in binary is 11111101\n",
      "254 in binary is 11111110\n",
      "255 in binary is 11111111\n",
      "256 in binary is 100000000\n",
      "257 in binary is 100000001\n",
      "258 in binary is 100000010\n",
      "259 in binary is 100000011\n",
      "42\n"
     ]
    }
   ],
   "source": [
    "for i in range(250, 260): # 255 is max value in one byte\n",
    "    print('{0:>2} in binary is {0:>08b}'.format(i))\n",
    "    \n",
    "print(0b00101010) # The leading 0s are not needed (but I think it's good etiquette)"
   ]
  },
  {
   "cell_type": "markdown",
   "metadata": {},
   "source": [
    "# Hexadecimal & Octal\n",
    "\n",
    "Hex is base 16. 0-15 is represented by numbers 0 - 9 and then letters A - F.\n",
    "\n",
    "Octal is base 8. It is used for the Linux Permissions "
   ]
  },
  {
   "cell_type": "code",
   "execution_count": 4,
   "metadata": {},
   "outputs": [
    {
     "name": "stdout",
     "output_type": "stream",
     "text": [
      " 0 in hex is 00\n",
      " 1 in hex is 01\n",
      " 2 in hex is 02\n",
      " 3 in hex is 03\n",
      " 4 in hex is 04\n",
      " 5 in hex is 05\n",
      " 6 in hex is 06\n",
      " 7 in hex is 07\n",
      " 8 in hex is 08\n",
      " 9 in hex is 09\n",
      "10 in hex is 0a\n",
      "11 in hex is 0b\n",
      "12 in hex is 0c\n",
      "13 in hex is 0d\n",
      "14 in hex is 0e\n",
      "15 in hex is 0f\n",
      "16 in hex is 10\n"
     ]
    }
   ],
   "source": [
    "for i in range(17):\n",
    "    print('{0:>2} in hex is {0:>02x}'.format(i))"
   ]
  },
  {
   "cell_type": "code",
   "execution_count": 5,
   "metadata": {},
   "outputs": [
    {
     "name": "stdout",
     "output_type": "stream",
     "text": [
      "32\n",
      "10\n",
      "320\n"
     ]
    }
   ],
   "source": [
    "x = 0x20\n",
    "y = 0x0a\n",
    "\n",
    "print(x)\n",
    "print(y)\n",
    "print(x * y)"
   ]
  },
  {
   "cell_type": "markdown",
   "metadata": {},
   "source": [
    "# Challenge \n",
    "\n",
    "When converting a decimal number to binary, you look for the highest power of 2 smaller than the number and put a 1 in that column. You then take the remainder and repeat the process with the next highest power - putting a 1 if it does into the remainder and a zero otherwise. Keep repeating until you have daelth with all powers down to 2 (i.e. 1).\n",
    "\n",
    "Write a program that requests a number from the keyboard, the prints out its binary representation.\n",
    "\n",
    "Obviously, you could use a format string, but that is not allowed for this challenge."
   ]
  },
  {
   "cell_type": "code",
   "execution_count": null,
   "metadata": {},
   "outputs": [],
   "source": [
    "# num = input('Please enter any integer number : ')\n",
    "\n",
    "while num < 0:\n",
    "    test = num // 2\n",
    "    print(num)\n",
    "    break\n",
    "    "
   ]
  }
 ],
 "metadata": {
  "kernelspec": {
   "display_name": "Python 3",
   "language": "python",
   "name": "python3"
  },
  "language_info": {
   "codemirror_mode": {
    "name": "ipython",
    "version": 3
   },
   "file_extension": ".py",
   "mimetype": "text/x-python",
   "name": "python",
   "nbconvert_exporter": "python",
   "pygments_lexer": "ipython3",
   "version": "3.6.6"
  }
 },
 "nbformat": 4,
 "nbformat_minor": 2
}
