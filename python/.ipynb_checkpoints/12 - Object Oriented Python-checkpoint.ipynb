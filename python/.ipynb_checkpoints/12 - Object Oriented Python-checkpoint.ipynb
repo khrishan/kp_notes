{
 "cells": [
  {
   "cell_type": "code",
   "execution_count": null,
   "metadata": {},
   "outputs": [],
   "source": [
    "__author__ = 'Khrishan Patel'"
   ]
  },
  {
   "cell_type": "markdown",
   "metadata": {},
   "source": [
    "## Introduction to Classes\n",
    "\n",
    "`imperative` programming  - define a list of instructions to be followed in a defined order\n",
    "\n",
    "`OOP` - Object Oriented Programming. Aims to combine data and the processes that act on that data into objects which is called `encapsulation`.\n",
    "\n",
    "Think of it like a recipe:\n",
    "\n",
    "`imperative` - you get all the the ingredients, utensils and then you do the steps in order to make the meal\n",
    "\n",
    "`OOP` - relies on the objects such as the eggs, milk, spoon to know certain operations so the program just tells them to get on with it (e.g. egg boiling itself)\n",
    "\n",
    "**EVERYTHING IN PYTHON IS AN OBJECT**\n",
    "\n",
    "### What is `self`?\n",
    "\n",
    "`self` is a reference to the instance of the class."
   ]
  },
  {
   "cell_type": "code",
   "execution_count": 17,
   "metadata": {},
   "outputs": [
    {
     "name": "stdout",
     "output_type": "stream",
     "text": [
      "Kenwood\n",
      "8.99\n",
      "12.75\n",
      "Models : Kenwood = 12.75, Hamilton = 14.55\n",
      "False\n",
      "True\n",
      "True\n"
     ]
    }
   ],
   "source": [
    "class Kettle(object):\n",
    "    power_source = 'electricity'\n",
    "    \n",
    "    \n",
    "    def __init__(self, make, price):\n",
    "        self.make = make\n",
    "        self.price = price\n",
    "        self.on = False\n",
    "    \n",
    "    def switch_on(self):\n",
    "        self.on = True\n",
    "    \n",
    "        \n",
    "kenwood = Kettle('Kenwood', '8.99')\n",
    "print(kenwood.make)\n",
    "print(kenwood.price)\n",
    "\n",
    "kenwood.price = 12.75\n",
    "print(kenwood.price)\n",
    "\n",
    "hamilton = Kettle('Hamilton', 14.55)\n",
    "\n",
    "print('Models : {} = {}, {} = {}'.format(kenwood.make, kenwood.price, hamilton.make, hamilton.price))\n",
    "\n",
    "print(hamilton.on)\n",
    "hamilton.switch_on()\n",
    "print(hamilton.on)\n",
    "\n",
    "Kettle.switch_on(kenwood) # << Ohhh, so kenwood is being used as the `self` parameter\n",
    "print(kenwood.on)"
   ]
  },
  {
   "cell_type": "markdown",
   "metadata": {},
   "source": [
    "## Instance, Constructors, Attributes and more\n",
    "\n",
    "`Class` - Template for creating objects. All objects created using the same class will have the same characteristics. \n",
    "\n",
    "`Object` - An instance of a class. \n",
    "\n",
    "`Instantiate` - Create an Instance of a Class.\n",
    "\n",
    "`Method` - A function defined in a class\n",
    "\n",
    "`Attribute` - A variable bound to an instance of a class \n",
    "\n",
    "Constructor is a special methos that is executed when an instance of a class is created or constructed. In Python, this is the `__init__` method.\n",
    "\n",
    "Small Talk Term - Instance Variable\n",
    "Methods are also attribues of classes\n",
    "\n"
   ]
  },
  {
   "cell_type": "code",
   "execution_count": 21,
   "metadata": {},
   "outputs": [
    {
     "name": "stdout",
     "output_type": "stream",
     "text": [
      "Models: Kenwood = 12.75, Hamilton = 14.55\n",
      "1.5\n"
     ]
    }
   ],
   "source": [
    "print('Models: {0.make} = {0.price}, {1.make} = {1.price}'.format(kenwood, hamilton))\n",
    "\n",
    "\n",
    "# Just like houses, there's nothing stopping you from building an extenstion.\n",
    "\n",
    "# In the Kettle example, all Kettles are powered using electricity. So we can have a class attribute.\n",
    "kenwood.power = 1.5\n",
    "print(kenwood.power)\n",
    "\n"
   ]
  },
  {
   "cell_type": "markdown",
   "metadata": {},
   "source": [
    "## Class Attributes"
   ]
  },
  {
   "cell_type": "code",
   "execution_count": 27,
   "metadata": {},
   "outputs": [
    {
     "name": "stdout",
     "output_type": "stream",
     "text": [
      "Switch to Atomic Power Source\n",
      "Atomic\n",
      "Switch Kenwood to Gas\n",
      "Gas\n",
      "Atomic\n",
      "{'__module__': '__main__', 'power_source': 'Atomic', '__init__': <function Kettle.__init__ at 0x7f362d734950>, 'switch_on': <function Kettle.switch_on at 0x7f362d734a60>, '__dict__': <attribute '__dict__' of 'Kettle' objects>, '__weakref__': <attribute '__weakref__' of 'Kettle' objects>, '__doc__': None}\n",
      "{'make': 'Kenwood', 'price': 12.75, 'on': True, 'power': 1.5, 'power_source': 'Gas'}\n",
      "{'make': 'Hamilton', 'price': 14.55, 'on': True}\n"
     ]
    }
   ],
   "source": [
    "print('Switch to Atomic Power Source')\n",
    "\n",
    "Kettle.power_source = 'Atomic'\n",
    "\n",
    "print(Kettle.power_source)\n",
    "\n",
    "print('Switch Kenwood to Gas')\n",
    "kenwood.power_source = 'Gas'\n",
    "\n",
    "print(kenwood.power_source)\n",
    "print(hamilton.power_source) # <-- Shows that it is looking at the class attribute\n",
    "\n",
    "print(Kettle.__dict__)\n",
    "print(kenwood.__dict__)\n",
    "print(hamilton.__dict__)"
   ]
  },
  {
   "cell_type": "markdown",
   "metadata": {},
   "source": [
    "## Methods\n",
    "\n",
    "An important part of OOP is `encapsulation`, the idea that objects contain the data and methods, without exposing the acutal implementation to the outside world."
   ]
  },
  {
   "cell_type": "code",
   "execution_count": 24,
   "metadata": {},
   "outputs": [
    {
     "name": "stdout",
     "output_type": "stream",
     "text": [
      "Account Created for KP!\n",
      "Balance is 1000\n",
      "Balance is 500\n",
      "You do not have sufficient funds to withdraw this amount!\n",
      "Balance is 500\n",
      "     0 withdrawn on 2019-06-18 14:04:39.247857+00:00 UTC. Balance      0\n",
      "  1000 deposited on 2019-06-18 14:04:39.248041+00:00 UTC. Balance   1000\n",
      "   500 withdrawn on 2019-06-18 14:04:39.248072+00:00 UTC. Balance    500\n",
      "Account Created for Geoff!\n",
      "Balance is 900\n",
      "Balance is 700\n",
      "   800 deposited on 2019-06-18 14:04:39.248204+00:00 UTC. Balance    800\n",
      "   100 deposited on 2019-06-18 14:04:39.248222+00:00 UTC. Balance    900\n",
      "   200 withdrawn on 2019-06-18 14:04:39.248239+00:00 UTC. Balance    700\n",
      "Balance is 500\n"
     ]
    }
   ],
   "source": [
    "import datetime\n",
    "import pytz\n",
    "\n",
    "class Account:\n",
    "    \"\"\" Simple account class with balance.\"\"\" # <-- This is a DocString\n",
    "    \n",
    "    # In order to make something static, you remove the `self` from the method\n",
    "    # and add an annotation (@static), and put a _ at the start of the method.\n",
    "    @staticmethod\n",
    "    def _current_time():\n",
    "        utc_time = datetime.datetime.utcnow()\n",
    "        return pytz.utc.localize(utc_time)\n",
    "    \n",
    "    def __init__(self, name, balance):\n",
    "        self._name = name\n",
    "        self.__balance = balance\n",
    "        self._transaction_list = []\n",
    "        self._transaction_list.append((Account._current_time(), balance, balance))\n",
    "        print('Account Created for {}!'.format(name))\n",
    "        \n",
    "    \n",
    "    def deposit(self, amount):\n",
    "        if amount > 0:\n",
    "            self.__balance += amount\n",
    "        \n",
    "        self._transaction_list.append((Account._current_time(), amount, self.__balance))\n",
    "        \n",
    "        self.show_balance()\n",
    "            \n",
    "    \n",
    "    def withdraw(self, amount):\n",
    "        if 0 <= amount <= self.__balance:\n",
    "            self.__balance -= amount\n",
    "            self._transaction_list.append((Account._current_time(), -amount, self.__balance))\n",
    "        else:\n",
    "            print('You do not have sufficient funds to withdraw this amount!')\n",
    "        \n",
    "        self.show_balance()\n",
    "        \n",
    "    def show_balance(self):\n",
    "        print('Balance is {}'.format(self.__balance))\n",
    "    \n",
    "    \n",
    "    def show_transactions(self):\n",
    "        for date, amount, balance in self._transaction_list:\n",
    "            if amount > 0:\n",
    "                 tran_type = 'deposited'\n",
    "            else:\n",
    "                tran_type = 'withdrawn'\n",
    "                amount *= -1\n",
    "            print('{:6} {} on {} UTC. Balance {:6}'.format(amount, tran_type, date, balance))\n",
    "                                     \n",
    "        \n",
    "if __name__ == '__main__':\n",
    "    kp = Account('KP', 0)\n",
    "    kp.deposit(1000)\n",
    "    kp.withdraw(500)\n",
    "    kp.withdraw(100000)\n",
    "    \n",
    "    kp.show_transactions()\n",
    "    \n",
    "    geoff = Account('Geoff', 800)\n",
    "    geoff.deposit(100)\n",
    "    geoff.withdraw(200)\n",
    "    geoff.show_transactions()\n",
    "    \n",
    "# Although this code works, there is acutally an issue with it. What is it?\n",
    "\n",
    "# My Guess, you can modify the account balance, without using the methods, lets test it...\n",
    "    kp.balance = 1000000000000\n",
    "    kp.show_balance()\n",
    "# Attribue that start with an single underscore should not be messed with - but there is nothing stopping the end user from messing with it.\n",
    "# Two underscores is used for 'sub classes' - This means that user cannot mess with variable (unless they specifically define it (with the underscores))"
   ]
  },
  {
   "cell_type": "code",
   "execution_count": 25,
   "metadata": {},
   "outputs": [
    {
     "name": "stdout",
     "output_type": "stream",
     "text": [
      "{'_name': 'KP', '_Account__balance': 500, '_transaction_list': [(datetime.datetime(2019, 6, 18, 14, 4, 39, 247857, tzinfo=<UTC>), 0, 0), (datetime.datetime(2019, 6, 18, 14, 4, 39, 248041, tzinfo=<UTC>), 1000, 1000), (datetime.datetime(2019, 6, 18, 14, 4, 39, 248072, tzinfo=<UTC>), -500, 500)], 'balance': 1000000000000}\n",
      "Balance is 700\n",
      "Balance is 40\n"
     ]
    }
   ],
   "source": [
    "# Non Public and Mangling\n",
    "\n",
    "# Python 'mangles' all class attribues, both methods and variables that start with two underscores.\n",
    "# What that means is the name of the class and the attribute are 'mangled together'.\n",
    "\n",
    "print(kp.__dict__)\n",
    "\n",
    "# You will see how there is a variable called 'balance', and another one called _Account__balance.\n",
    "\n",
    "# If you REALLY wanted to get to the variable, then you can\n",
    "geoff.show_balance()\n",
    "geoff._Account__balance = 40\n",
    "geoff.show_balance()"
   ]
  },
  {
   "cell_type": "markdown",
   "metadata": {},
   "source": [
    "## Docstrings and Raw Literals\n",
    "\n",
    "Docstrings can be used to document modules, functions, classes and methods. They should provide information about what objects does and how to use it. \n",
    "\n",
    "Guidelines on how to write 'good' DocStrings can be found in [PEP-257](https://www.python.org/dev/peps/pep-0257)\n",
    "\n",
    "### Random Fact\n",
    "*_Why does Windows use CRLF rather than just LF?_*\n",
    "\n",
    "It's historical of when we used to use typewriters, we would get the carriage to return to the beginning of the line, then go down one line.\n",
    "\n",
    "Unix drivers automatically started using the carraige return so it wasn't necessary to have it in the file"
   ]
  },
  {
   "cell_type": "code",
   "execution_count": 33,
   "metadata": {},
   "outputs": [],
   "source": [
    "class Song:\n",
    "    \"\"\" Class to represent a song\n",
    "    \n",
    "    Attribues:\n",
    "        title (str): The title of the song\n",
    "        artist (Artist): An artist object representing the song's creator\n",
    "        duration (int): The duration of the song in seconds\n",
    "    \n",
    "    \"\"\"\n",
    "    \n",
    "    def __init__(self, title, artist, duration=0):\n",
    "        \"\"\" Song __init__ method\n",
    "        \n",
    "        Args:\n",
    "            title (str): Initalises the 'title' attribute.\n",
    "            artist (Artist): An Artist oject representing the song's creator.\n",
    "            duration (Optional[int]): Initial value for he 'duration' attribute.\n",
    "                Will default to zero if not specified.\n",
    "        \n",
    "        \"\"\"\n",
    "        \n",
    "        self.title = title\n",
    "        self.artist = artist\n",
    "        self.duration = duration"
   ]
  },
  {
   "cell_type": "code",
   "execution_count": 34,
   "metadata": {},
   "outputs": [
    {
     "name": "stdout",
     "output_type": "stream",
     "text": [
      "this is\n",
      "a string split\t\tand tabbed.\n",
      "this is\\na string split\\t\\tand tabbed.\n",
      "this is\n",
      "a string split\t\tand tabbed.\n"
     ]
    }
   ],
   "source": [
    "a_string = 'this is\\na string split\\t\\tand tabbed.'\n",
    "print(a_string)\n",
    "\n",
    "raw_string = r'this is\\na string split\\t\\tand tabbed.'\n",
    "print(raw_string)\n",
    "\n",
    "b_string = 'this is' + chr(10) + 'a string split' + chr(9) + chr(9) + 'and tabbed.'\n",
    "print(b_string)"
   ]
  },
  {
   "cell_type": "code",
   "execution_count": 38,
   "metadata": {},
   "outputs": [
    {
     "name": "stdout",
     "output_type": "stream",
     "text": [
      "Help on class Song in module __main__:\n",
      "\n",
      "class Song(builtins.object)\n",
      " |  Class to represent a song\n",
      " |  \n",
      " |  Attribues:\n",
      " |      title (str): The title of the song\n",
      " |      artist (Artist): An artist object representing the song's creator\n",
      " |      duration (int): The duration of the song in seconds\n",
      " |  \n",
      " |  Methods defined here:\n",
      " |  \n",
      " |  __init__(self, title, artist, duration=0)\n",
      " |      Song __init__ method\n",
      " |      \n",
      " |      Args:\n",
      " |          title (str): Initalises the 'title' attribute.\n",
      " |          artist (Artist): An Artist oject representing the song's creator.\n",
      " |          duration (Optional[int]): Initial value for he 'duration' attribute.\n",
      " |              Will default to zero if not specified.\n",
      " |  \n",
      " |  ----------------------------------------------------------------------\n",
      " |  Data descriptors defined here:\n",
      " |  \n",
      " |  __dict__\n",
      " |      dictionary for instance variables (if defined)\n",
      " |  \n",
      " |  __weakref__\n",
      " |      list of weak references to the object (if defined)\n",
      "\n",
      "--------------------------------------------------\n",
      "Help on function __init__ in module __main__:\n",
      "\n",
      "__init__(self, title, artist, duration=0)\n",
      "    Song __init__ method\n",
      "    \n",
      "    Args:\n",
      "        title (str): Initalises the 'title' attribute.\n",
      "        artist (Artist): An Artist oject representing the song's creator.\n",
      "        duration (Optional[int]): Initial value for he 'duration' attribute.\n",
      "            Will default to zero if not specified.\n",
      "\n",
      "--------------------------------------------------\n",
      " Class to represent a song\n",
      "    \n",
      "    Attribues:\n",
      "        title (str): The title of the song\n",
      "        artist (Artist): An artist object representing the song's creator\n",
      "        duration (int): The duration of the song in seconds\n",
      "    \n",
      "    \n",
      "--------------------------------------------------\n",
      " Song __init__ method\n",
      "        \n",
      "        Args:\n",
      "            title (str): Initalises the 'title' attribute.\n",
      "            artist (Artist): An Artist oject representing the song's creator.\n",
      "            duration (Optional[int]): Initial value for he 'duration' attribute.\n",
      "                Will default to zero if not specified.\n",
      "        \n",
      "        \n",
      "--------------------------------------------------\n"
     ]
    }
   ],
   "source": [
    "help(Song) #oh wow wasn't expecting that\n",
    "print('-' * 50)\n",
    "help(Song.__init__)\n",
    "print('-' * 50)\n",
    "print(Song.__doc__)\n",
    "print('-' * 50)\n",
    "print(Song.__init__.__doc__)\n",
    "# Song.__init__.__doc__ = \"\"\" This is another way of initalising the text.\"\"\"\n",
    "print('-' * 50)"
   ]
  },
  {
   "cell_type": "code",
   "execution_count": null,
   "metadata": {},
   "outputs": [],
   "source": [
    "class Album:\n",
    "    \"\"\" Class to represent an Album, using its track list\n",
    "    \n",
    "    Attributes:\n",
    "        album_name (str) : The name of the album\n",
    "        year (int) : The year the album was released.\n",
    "        artist (Artist) : The Artist responsible for the album.\n",
    "            If not specified, the artist will default to an artist witht he name \"Various Artists\".\n",
    "        tracks (List(Song))L A list of the songs on the album.\n",
    "        \n",
    "    Methods:\n",
    "        add_song(): Used to add a new song to the album's track list.\n",
    "    \"\"\"\n",
    "    \n",
    "# You don't add the parameters to this docstring, you add it to the doc_string of the method\n",
    "    \n",
    "    def __init__(self, name, year, artist=None):\n",
    "        self.name = name\n",
    "        self.year = year\n",
    "        if artist is None:\n",
    "            self.artist = Artist(\"Various Artists\")\n",
    "        else:\n",
    "            self.artist = artist\n",
    "        \n",
    "        self.tracks = []\n",
    "        \n",
    "        \n",
    "    def add_song(self, song, position=None):\n",
    "        \"\"\" Adds a song to the track list.\n",
    "        \n",
    "        Args:\n",
    "            song (Song) : The song to add.\n",
    "            position (Optional[int]) : IF specified, the song will eb added to that position in the track list - \n",
    "                inserting it between other songs if necessary.\n",
    "                Otherwise, the song will be added to the end of the list.\n",
    "        \n",
    "        \"\"\"\n",
    "        if position is None:\n",
    "            self.tracks.append(song)\n",
    "        else:\n",
    "            self.tracks.insert(position, song) # Python has an 'insert' method?! it does!!!"
   ]
  },
  {
   "cell_type": "code",
   "execution_count": null,
   "metadata": {},
   "outputs": [],
   "source": []
  },
  {
   "cell_type": "code",
   "execution_count": null,
   "metadata": {},
   "outputs": [],
   "source": []
  },
  {
   "cell_type": "code",
   "execution_count": null,
   "metadata": {},
   "outputs": [],
   "source": []
  },
  {
   "cell_type": "code",
   "execution_count": null,
   "metadata": {},
   "outputs": [],
   "source": []
  },
  {
   "cell_type": "code",
   "execution_count": null,
   "metadata": {},
   "outputs": [],
   "source": []
  },
  {
   "cell_type": "code",
   "execution_count": null,
   "metadata": {},
   "outputs": [],
   "source": []
  }
 ],
 "metadata": {
  "kernelspec": {
   "display_name": "Python 3",
   "language": "python",
   "name": "python3"
  },
  "language_info": {
   "codemirror_mode": {
    "name": "ipython",
    "version": 3
   },
   "file_extension": ".py",
   "mimetype": "text/x-python",
   "name": "python",
   "nbconvert_exporter": "python",
   "pygments_lexer": "ipython3",
   "version": "3.6.5"
  }
 },
 "nbformat": 4,
 "nbformat_minor": 2
}
