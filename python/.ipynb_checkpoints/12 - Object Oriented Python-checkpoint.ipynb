{
 "cells": [
  {
   "cell_type": "code",
   "execution_count": null,
   "metadata": {},
   "outputs": [],
   "source": [
    "__author__ = 'Khrishan Patel'"
   ]
  },
  {
   "cell_type": "markdown",
   "metadata": {},
   "source": [
    "## Introduction to Classes\n",
    "\n",
    "`imperative` programming  - define a list of instructions to be followed in a defined order\n",
    "\n",
    "`OOP` - Object Oriented Programming. Aims to combine data and the processes that act on that data into objects which is called `encapsulation`.\n",
    "\n",
    "Think of it like a recipe:\n",
    "\n",
    "`imperative` - you get all the the ingredients, utensils and then you do the steps in order to make the meal\n",
    "\n",
    "`OOP` - relies on the objects such as the eggs, milk, spoon to know certain operations so the program just tells them to get on with it (e.g. egg boiling itself)\n",
    "\n",
    "**EVERYTHING IN PYTHON IS AN OBJECT**"
   ]
  },
  {
   "cell_type": "code",
   "execution_count": null,
   "metadata": {},
   "outputs": [],
   "source": [
    "class Kettle(object):\n",
    "    def __init__(self, make, price):\n",
    "        self.make = make\n",
    "        self.price = price\n",
    "        self.on = False\n",
    "        \n",
    "        \n",
    "kenwood = Kettle('Kenwood', '8.99')\n",
    "print(kenwood.make)\n",
    "print(kenwood.price)\n",
    "\n",
    "kenwood.price = 12.99\n",
    "print(kenwood.price)\n",
    "\n",
    "hamilton = Kettle('Hamilton', 14.55)\n"
   ]
  },
  {
   "cell_type": "code",
   "execution_count": null,
   "metadata": {},
   "outputs": [],
   "source": []
  },
  {
   "cell_type": "code",
   "execution_count": null,
   "metadata": {},
   "outputs": [],
   "source": []
  },
  {
   "cell_type": "code",
   "execution_count": null,
   "metadata": {},
   "outputs": [],
   "source": []
  },
  {
   "cell_type": "code",
   "execution_count": null,
   "metadata": {},
   "outputs": [],
   "source": []
  },
  {
   "cell_type": "code",
   "execution_count": null,
   "metadata": {},
   "outputs": [],
   "source": []
  },
  {
   "cell_type": "code",
   "execution_count": null,
   "metadata": {},
   "outputs": [],
   "source": []
  }
 ],
 "metadata": {
  "kernelspec": {
   "display_name": "Python 3",
   "language": "python",
   "name": "python3"
  },
  "language_info": {
   "codemirror_mode": {
    "name": "ipython",
    "version": 3
   },
   "file_extension": ".py",
   "mimetype": "text/x-python",
   "name": "python",
   "nbconvert_exporter": "python",
   "pygments_lexer": "ipython3",
   "version": "3.7.3"
  }
 },
 "nbformat": 4,
 "nbformat_minor": 2
}
