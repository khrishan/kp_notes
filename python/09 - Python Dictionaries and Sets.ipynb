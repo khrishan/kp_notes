{
 "cells": [
  {
   "cell_type": "code",
   "execution_count": null,
   "metadata": {},
   "outputs": [],
   "source": [
    "__author__ = 'Khrishan Patel'"
   ]
  },
  {
   "cell_type": "markdown",
   "metadata": {},
   "source": [
    "# Dictionaries\n",
    "\n",
    "A Python dictionary is a mapping of unique keys to values. Dictionaries are mutable, which means they can be changed. The values that the keys point to can be any Python value. Dictionaries are unordered, so the order that the keys are added doesn't necessarily reflect what order they may be reported back."
   ]
  },
  {
   "cell_type": "code",
   "execution_count": 5,
   "metadata": {},
   "outputs": [
    {
     "name": "stdout",
     "output_type": "stream",
     "text": [
      "{'orange': 'A sweet, orange, citrus fruit', 'apple': 'good for making cider', 'lemon': 'a sour, yellow citrus fruit', 'grape': 'a small, sweet fruit growing in bunches', 'lime': 'a sour, green citrus fruit'}\n",
      "a sour, yellow citrus fruit\n",
      "{'orange': 'A sweet, orange, citrus fruit', 'apple': 'good for making cider', 'lemon': 'a sour, yellow citrus fruit', 'grape': 'a small, sweet fruit growing in bunches', 'lime': 'a sour, green citrus fruit', 'pear': 'an odd shaped apple'}\n",
      "{'orange': 'A sweet, orange, citrus fruit', 'apple': 'good for making cider', 'lemon': 'a sour, yellow citrus fruit', 'grape': 'a small, sweet fruit growing in bunches', 'lime': 'great with tequila', 'pear': 'an odd shaped apple'}\n",
      "{'orange': 'A sweet, orange, citrus fruit', 'apple': 'good for making cider', 'grape': 'a small, sweet fruit growing in bunches', 'lime': 'great with tequila', 'pear': 'an odd shaped apple'}\n",
      "{}\n"
     ]
    }
   ],
   "source": [
    "fruit = {'orange' : 'A sweet, orange, citrus fruit',\n",
    "         'apple' : 'good for making cider',\n",
    "         'lemon' : 'a sour, yellow citrus fruit',\n",
    "         'grape' : 'a small, sweet fruit growing in bunches',\n",
    "         'lime' : 'a sour, green citrus fruit'        \n",
    "        }\n",
    "\n",
    "print(fruit)          # prints out whole dictionary\n",
    "print(fruit['lemon']) # prints out just the lemon description \n",
    "\n",
    "# We can add to a dictionary\n",
    "\n",
    "fruit['pear'] = 'an odd shaped apple'\n",
    "print(fruit)\n",
    "\n",
    "# We can also overwrite entries in a dictionary\n",
    "\n",
    "fruit['lime'] = 'great with tequila'\n",
    "print(fruit)\n",
    "\n",
    "del fruit['lemon'] # Delete items from a dictionary\n",
    "print(fruit)\n",
    "\n",
    "fruit.clear() # Clear out a dictionary\n",
    "print(fruit)"
   ]
  },
  {
   "cell_type": "code",
   "execution_count": 1,
   "metadata": {},
   "outputs": [
    {
     "name": "stdout",
     "output_type": "stream",
     "text": [
      "Please enter a fruit : tomato\n",
      "Please enter a fruit : grape\n",
      "a small, sweet fruit growing in bunches\n",
      "Please enter a fruit : quit\n"
     ]
    }
   ],
   "source": [
    "fruit = {'orange' : 'A sweet, orange, citrus fruit',\n",
    "         'apple' : 'good for making cider',\n",
    "         'lemon' : 'a sour, yellow citrus fruit',\n",
    "         'grape' : 'a small, sweet fruit growing in bunches',\n",
    "         'lime' : 'a sour, green citrus fruit'        \n",
    "        }\n",
    "\n",
    "\n",
    "while True:\n",
    "    dict_key = input('Please enter a fruit : ')\n",
    "    if dict_key == 'quit':\n",
    "        break\n",
    "    elif dict_key in fruit:\n",
    "        print(fruit.get(dict_key))\n"
   ]
  },
  {
   "cell_type": "code",
   "execution_count": 2,
   "metadata": {},
   "outputs": [
    {
     "name": "stdout",
     "output_type": "stream",
     "text": [
      "250\n",
      "red\n"
     ]
    }
   ],
   "source": [
    "bike = {'make' : 'Honda', 'model' : '250 dream', 'colour': 'red', 'engine_size': 250}\n",
    "\n",
    "print(bike['engine_size'])\n",
    "print(bike['colour'])"
   ]
  },
  {
   "cell_type": "code",
   "execution_count": null,
   "metadata": {},
   "outputs": [],
   "source": []
  },
  {
   "cell_type": "code",
   "execution_count": null,
   "metadata": {},
   "outputs": [],
   "source": []
  },
  {
   "cell_type": "code",
   "execution_count": null,
   "metadata": {},
   "outputs": [],
   "source": []
  },
  {
   "cell_type": "code",
   "execution_count": null,
   "metadata": {},
   "outputs": [],
   "source": []
  },
  {
   "cell_type": "code",
   "execution_count": null,
   "metadata": {},
   "outputs": [],
   "source": []
  },
  {
   "cell_type": "code",
   "execution_count": null,
   "metadata": {},
   "outputs": [],
   "source": []
  }
 ],
 "metadata": {
  "kernelspec": {
   "display_name": "Python 3",
   "language": "python",
   "name": "python3"
  },
  "language_info": {
   "codemirror_mode": {
    "name": "ipython",
    "version": 3
   },
   "file_extension": ".py",
   "mimetype": "text/x-python",
   "name": "python",
   "nbconvert_exporter": "python",
   "pygments_lexer": "ipython3",
   "version": "3.6.6"
  }
 },
 "nbformat": 4,
 "nbformat_minor": 2
}
