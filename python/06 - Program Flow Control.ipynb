{
 "cells": [
  {
   "cell_type": "code",
   "execution_count": null,
   "metadata": {},
   "outputs": [],
   "source": [
    "__author__ = 'Khrishan Patel'"
   ]
  },
  {
   "cell_type": "markdown",
   "metadata": {},
   "source": [
    "# if statement"
   ]
  },
  {
   "cell_type": "code",
   "execution_count": 8,
   "metadata": {},
   "outputs": [
    {
     "name": "stdout",
     "output_type": "stream",
     "text": [
      "Please enter your name : Khrishan\n",
      "How old are you, Khrishan? 15\n",
      "15\n",
      "Please come back in 3 years!\n"
     ]
    }
   ],
   "source": [
    "name = input('Please enter your name : ')\n",
    "age = int(input('How old are you, {}? '.format(name))) # Only accepts numbers\n",
    "print(age)\n",
    "\n",
    "if age >= 18:\n",
    "    print('You are old enough to vote!')\n",
    "else:\n",
    "    print('Please come back in {} years!'.format(18 - age))\n"
   ]
  },
  {
   "cell_type": "code",
   "execution_count": 16,
   "metadata": {},
   "outputs": [
    {
     "name": "stdout",
     "output_type": "stream",
     "text": [
      "Please guess a number between 1 and 10 : \n",
      "8\n",
      "Print guess lower!\n",
      "5\n",
      "Well Done!\n"
     ]
    }
   ],
   "source": [
    "print('Please guess a number between 1 and 10 : ')\n",
    "guess = int(input())\n",
    "\n",
    "if guess != 5:\n",
    "    if guess < 5:\n",
    "        print('Please guess higher!')\n",
    "    else:\n",
    "        print('Print guess lower!')\n",
    "        \n",
    "    guess = int(input())\n",
    "    \n",
    "    if guess == 5:\n",
    "        print(\"Well Done!\")\n",
    "    else:\n",
    "        print('Sorry, you haven\\'t guessed correctly!')\n",
    "else:\n",
    "    print('You got it first time!')"
   ]
  },
  {
   "cell_type": "markdown",
   "metadata": {},
   "source": [
    "## Coding Exercise\n",
    "\n",
    "Write a small program that assigns the name of 2 trees to 2 variables, called __tree1__ and __tree2__.\n",
    "\n",
    "If the values of the 2 variables are equal, print the message __The trees are the same__, otherwise print __The trees are different__.\n",
    "\n",
    "This exercise system doesn't allow __input__ to be used, so don't use input on lines 1 and 2 - just enter your text inside the quotes for the 2 trees."
   ]
  },
  {
   "cell_type": "code",
   "execution_count": 17,
   "metadata": {},
   "outputs": [
    {
     "name": "stdout",
     "output_type": "stream",
     "text": [
      "The trees are different\n"
     ]
    }
   ],
   "source": [
    "tree1 = 'tree1'\n",
    "tree2 = 'tree2'\n",
    "\n",
    "if tree1 == tree2:\n",
    "    print('The trees are the same')\n",
    "else:\n",
    "    print('The trees are different')"
   ]
  },
  {
   "cell_type": "markdown",
   "metadata": {},
   "source": [
    "## and operator"
   ]
  },
  {
   "cell_type": "code",
   "execution_count": 19,
   "metadata": {},
   "outputs": [
    {
     "name": "stdout",
     "output_type": "stream",
     "text": [
      "How old are you? : 24\n",
      "Have a good day at work!\n",
      "Have a good day at work!\n"
     ]
    }
   ],
   "source": [
    "age = int(input('How old are you? : '))\n",
    "\n",
    "if age >= 16 and age <=65:\n",
    "    print('Have a good day at work!')\n",
    "\n",
    "# is the same as   \n",
    "    \n",
    "if 15 < age < 66:\n",
    "    print('Have a good day at work!')"
   ]
  },
  {
   "cell_type": "markdown",
   "metadata": {},
   "source": [
    "## or operator"
   ]
  },
  {
   "cell_type": "code",
   "execution_count": 2,
   "metadata": {},
   "outputs": [
    {
     "name": "stdout",
     "output_type": "stream",
     "text": [
      "How old are you? : 24\n",
      "Have a good day at work.\n"
     ]
    }
   ],
   "source": [
    "age = int(input('How old are you? : '))\n",
    "\n",
    "if age < 16 or age > 65:\n",
    "    print('Enjoy your free time.')\n",
    "else:\n",
    "    print('Have a good day at work.')"
   ]
  },
  {
   "cell_type": "code",
   "execution_count": 4,
   "metadata": {},
   "outputs": [
    {
     "name": "stdout",
     "output_type": "stream",
     "text": [
      "False: False\n",
      "None: False\n",
      "0: False\n",
      "0.0: False\n",
      "empty list []: False\n",
      "empty tuple (): False\n",
      "empty string '': False\n",
      "empty string \"\": False\n",
      "empty mapping {}: False\n",
      "\n"
     ]
    }
   ],
   "source": [
    "#Things that return False\n",
    "print(\"\"\"False: {0}\n",
    "None: {1}\n",
    "0: {2}\n",
    "0.0: {3}\n",
    "empty list []: {4}\n",
    "empty tuple (): {5}\n",
    "empty string '': {6}\n",
    "empty string \"\": {7}\n",
    "empty mapping {{}}: {8}\n",
    "\"\"\".format(False, bool(None), bool(0), bool(0.0), bool([]), bool(()), bool(''), bool(\"\"), bool({})))"
   ]
  },
  {
   "cell_type": "markdown",
   "metadata": {},
   "source": [
    "## not operator"
   ]
  },
  {
   "cell_type": "code",
   "execution_count": 5,
   "metadata": {},
   "outputs": [
    {
     "name": "stdout",
     "output_type": "stream",
     "text": [
      "True\n",
      "False\n"
     ]
    }
   ],
   "source": [
    "print(not False)\n",
    "print(not True)"
   ]
  },
  {
   "cell_type": "markdown",
   "metadata": {},
   "source": [
    "## in operator"
   ]
  },
  {
   "cell_type": "code",
   "execution_count": 7,
   "metadata": {},
   "outputs": [
    {
     "name": "stdout",
     "output_type": "stream",
     "text": [
      "Enter a Character : K\n",
      "I don't need that letter\n"
     ]
    }
   ],
   "source": [
    "# This is a case sensitive example\n",
    "\n",
    "parrot = 'Norwegian Blue'\n",
    "\n",
    "letter = input('Enter a Character : ')\n",
    "\n",
    "if letter in parrot:\n",
    "    print('Give me an {}, Bob'.format(letter))\n",
    "else:\n",
    "    print('I don\\'t need that letter')"
   ]
  },
  {
   "cell_type": "markdown",
   "metadata": {},
   "source": [
    "# Coding Exercise\n",
    "\n",
    "Write a small program that assingns the valule 5 to one variable, called **x**, and the value 7 to another, called **y**.\n",
    "\n",
    "Your program should then use an **if** statement to compare the values, and print out **x is greated than y** if x is greater, or **x is smaller than y** if y is greater. If x equals y, print out **x equals y**."
   ]
  },
  {
   "cell_type": "code",
   "execution_count": 8,
   "metadata": {},
   "outputs": [
    {
     "name": "stdout",
     "output_type": "stream",
     "text": [
      "x is smaller than y\n"
     ]
    }
   ],
   "source": [
    "x = 5\n",
    "y = 7\n",
    "\n",
    "if x > y:\n",
    "    print('x is greater than y')\n",
    "elif x < y:\n",
    "    print('x is smaller than y')\n",
    "else:\n",
    "    print('x equals y')"
   ]
  },
  {
   "cell_type": "markdown",
   "metadata": {},
   "source": [
    "# Challenge - If Then Else\n",
    "\n",
    "Write a small program to ask for a name and an age.\n",
    "When both values have been entered, check if the person\n",
    "is the right age to go on an 18-30 holiday (they must be\n",
    "over 18 and under 31).\n",
    "If they are, welcome them to the holiday, otherwise print\n",
    "a (polite) message refusing them entry."
   ]
  },
  {
   "cell_type": "code",
   "execution_count": 10,
   "metadata": {},
   "outputs": [
    {
     "name": "stdout",
     "output_type": "stream",
     "text": [
      "Please enter your name : Khrishan\n",
      "Please enter your age : 24\n",
      "Welcome to the Holiday Khrishan!\n"
     ]
    }
   ],
   "source": [
    "name = input('Please enter your name : ')\n",
    "age = int(input('Please enter your age : '))\n",
    "\n",
    "if 18 < age < 31:\n",
    "    print('Welcome to the Holiday {}!'.format(name))\n",
    "else:\n",
    "    print('I don\\'t think so {}'.format(name))"
   ]
  },
  {
   "cell_type": "markdown",
   "metadata": {},
   "source": [
    "## For Loop"
   ]
  },
  {
   "cell_type": "code",
   "execution_count": 12,
   "metadata": {},
   "outputs": [
    {
     "name": "stdout",
     "output_type": "stream",
     "text": [
      "1\n",
      "2\n",
      "3\n",
      "4\n",
      "5\n",
      "6\n",
      "7\n",
      "8\n",
      "9\n",
      "10\n",
      "11\n",
      "12\n",
      "13\n",
      "14\n",
      "15\n",
      "16\n",
      "17\n",
      "18\n",
      "19\n"
     ]
    }
   ],
   "source": [
    "# Notice that it includes 1 but does not include 20\n",
    "for i in range(1,20):\n",
    "    print(i)"
   ]
  },
  {
   "cell_type": "code",
   "execution_count": 13,
   "metadata": {},
   "outputs": [
    {
     "name": "stdout",
     "output_type": "stream",
     "text": [
      "9223372036854775807"
     ]
    }
   ],
   "source": [
    "num = '9,223,372,036,854,775,807'\n",
    "for i in range(0, len(num)):\n",
    "    if num[i] in '0123456789':\n",
    "        print(num[i], end='')\n",
    "        \n",
    "# This is the interesting part of the print statement, defining the end section.\n",
    "# Default is \\n"
   ]
  },
  {
   "cell_type": "markdown",
   "metadata": {},
   "source": [
    "## Coding Exercise\n",
    "\n",
    "Write a program to print out all the numbers from 0 to 9.\n",
    "\n",
    "Each number should print on a new line."
   ]
  },
  {
   "cell_type": "code",
   "execution_count": 14,
   "metadata": {},
   "outputs": [
    {
     "name": "stdout",
     "output_type": "stream",
     "text": [
      "0\n",
      "1\n",
      "2\n",
      "3\n",
      "4\n",
      "5\n",
      "6\n",
      "7\n",
      "8\n",
      "9\n"
     ]
    }
   ],
   "source": [
    "for i in range(0, 10):\n",
    "    print(i)"
   ]
  },
  {
   "cell_type": "markdown",
   "metadata": {},
   "source": [
    "## Entending For Loops"
   ]
  },
  {
   "cell_type": "code",
   "execution_count": 15,
   "metadata": {},
   "outputs": [
    {
     "name": "stdout",
     "output_type": "stream",
     "text": [
      "The number is 9223372036854775807\n"
     ]
    }
   ],
   "source": [
    "num = '9,223,372,036,854,775,807'\n",
    "cleaned_num = ''\n",
    "\n",
    "for char in num:\n",
    "    if char in '0123456789':\n",
    "        cleaned_num = cleaned_num + char\n",
    "        \n",
    "new_num = int(cleaned_num)\n",
    "print('The number is {}'.format(cleaned_num))"
   ]
  },
  {
   "cell_type": "code",
   "execution_count": 17,
   "metadata": {},
   "outputs": [
    {
     "name": "stdout",
     "output_type": "stream",
     "text": [
      "This parrot is non pinin'.\n",
      "This parrot is no more.\n",
      "This parrot is a stiff.\n",
      "This parrot is bereft of life.\n"
     ]
    }
   ],
   "source": [
    "for state in ['non pinin\\'', 'no more', 'a stiff', 'bereft of life']:\n",
    "    print('This parrot is {}.'.format(state))"
   ]
  },
  {
   "cell_type": "code",
   "execution_count": 18,
   "metadata": {},
   "outputs": [
    {
     "name": "stdout",
     "output_type": "stream",
     "text": [
      "i is 0\n",
      "i is 5\n",
      "i is 10\n",
      "i is 15\n",
      "i is 20\n",
      "i is 25\n",
      "i is 30\n",
      "i is 35\n",
      "i is 40\n",
      "i is 45\n",
      "i is 50\n",
      "i is 55\n",
      "i is 60\n",
      "i is 65\n",
      "i is 70\n",
      "i is 75\n",
      "i is 80\n",
      "i is 85\n",
      "i is 90\n",
      "i is 95\n"
     ]
    }
   ],
   "source": [
    "# Introducing a step as part of the for loop (That is the 3rd parameter.)\n",
    "# Stops as 95 as the range is 0-99 inclusive\n",
    "for i in range(0,100,5):\n",
    "    print('i is {}'.format(i))"
   ]
  },
  {
   "cell_type": "code",
   "execution_count": 2,
   "metadata": {},
   "outputs": [
    {
     "name": "stdout",
     "output_type": "stream",
     "text": [
      "No  1 Squared is    1 and cubed is    1\n",
      "No  2 Squared is    4 and cubed is    8\n",
      "No  3 Squared is    9 and cubed is   27\n",
      "No  4 Squared is   16 and cubed is   64\n",
      "No  5 Squared is   25 and cubed is  125\n",
      "No  6 Squared is   36 and cubed is  216\n",
      "No  7 Squared is   49 and cubed is  343\n",
      "No  8 Squared is   64 and cubed is  512\n",
      "No  9 Squared is   81 and cubed is  729\n",
      "No 10 Squared is  100 and cubed is 1000\n",
      "No 11 Squared is  121 and cubed is 1331\n"
     ]
    }
   ],
   "source": [
    "for i in range(1,12):\n",
    "    print('No {:2} Squared is {:4} and cubed is {:4}'.format(i, i**2, i**3))"
   ]
  },
  {
   "cell_type": "markdown",
   "metadata": {},
   "source": [
    "## Coding Exercise\n",
    "\n",
    "Write a program to print out the capital letters in the string provided."
   ]
  },
  {
   "cell_type": "code",
   "execution_count": 19,
   "metadata": {},
   "outputs": [
    {
     "name": "stdout",
     "output_type": "stream",
     "text": [
      "A\n",
      "S\n",
      "M\n",
      "E\n",
      "W\n",
      "P\n",
      "O\n",
      "I\n",
      "R\n",
      "F\n",
      "W\n",
      "S\n",
      "P\n",
      "H\n",
      "R\n"
     ]
    }
   ],
   "source": [
    "quote = \"\"\"\n",
    "Alright, but apart from the Sanitation, the Medicine, Education, Wine,\n",
    "Public Order, Irrigation, Roads, the Fresh-Water System,\n",
    "and Public Health, what have the Romans ever done for us?\n",
    "\"\"\"\n",
    "\n",
    "for char in quote:\n",
    "    if char in 'ABCDEFGHIJKLMNOPQRSTUVWXYZ':\n",
    "        print(char)"
   ]
  },
  {
   "cell_type": "markdown",
   "metadata": {},
   "source": [
    "Write a program to print out all the numbers from 0 to 100 that are divisible by 7"
   ]
  },
  {
   "cell_type": "code",
   "execution_count": 21,
   "metadata": {},
   "outputs": [
    {
     "name": "stdout",
     "output_type": "stream",
     "text": [
      "0\n",
      "7\n",
      "14\n",
      "21\n",
      "28\n",
      "35\n",
      "42\n",
      "49\n",
      "56\n",
      "63\n",
      "70\n",
      "77\n",
      "84\n",
      "91\n",
      "98\n"
     ]
    }
   ],
   "source": [
    "for i in range(0,100,7):\n",
    "    print(i)"
   ]
  },
  {
   "cell_type": "markdown",
   "metadata": {},
   "source": [
    "## Understanding Continue, Break and Else"
   ]
  },
  {
   "cell_type": "markdown",
   "metadata": {},
   "source": [
    "### Continue\n",
    "\n",
    "The continue statement rejects all the remaining statements in the current iteration of the loop and moves the control back to the top of the loop."
   ]
  },
  {
   "cell_type": "code",
   "execution_count": 3,
   "metadata": {},
   "outputs": [
    {
     "name": "stdout",
     "output_type": "stream",
     "text": [
      "Buy milk\n",
      "Buy pasta\n",
      "Buy eggs\n",
      "Buy bread\n",
      "Buy rice\n"
     ]
    }
   ],
   "source": [
    "shopping_list = ['milk', 'pasta', 'eggs', 'spam', 'bread', 'rice'] # We don't like Spam, so ignore it!\n",
    "\n",
    "for item in shopping_list:\n",
    "    if item == 'spam':\n",
    "        continue\n",
    "    print('Buy {}'.format(item))"
   ]
  },
  {
   "cell_type": "markdown",
   "metadata": {},
   "source": [
    "### Continue Coding Exercise\n",
    "\n",
    "Write a program to print out all the numbers from 0 to 20 that **aren't** divisble by 3 or 5. Zero should not appear in the output"
   ]
  },
  {
   "cell_type": "code",
   "execution_count": 11,
   "metadata": {},
   "outputs": [
    {
     "name": "stdout",
     "output_type": "stream",
     "text": [
      "1\n",
      "2\n",
      "4\n",
      "7\n",
      "8\n",
      "11\n",
      "13\n",
      "14\n",
      "16\n",
      "17\n",
      "19\n"
     ]
    }
   ],
   "source": [
    "for i in range (1, 21):\n",
    "    if i % 3 == 0 or i % 5 == 0:\n",
    "        continue\n",
    "    print(i)"
   ]
  },
  {
   "cell_type": "markdown",
   "metadata": {},
   "source": [
    "### Break\n",
    "\n",
    "The break statement stops the execution of the innermost loop and start executing the next line of code after the block."
   ]
  },
  {
   "cell_type": "code",
   "execution_count": 2,
   "metadata": {},
   "outputs": [
    {
     "name": "stdout",
     "output_type": "stream",
     "text": [
      "Buy milk\n",
      "Buy pasta\n",
      "Buy eggs\n"
     ]
    }
   ],
   "source": [
    "shopping_list = ['milk', 'pasta', 'eggs', 'spam', 'bread', 'rice'] # Someone suggested Spam, how dare they!\n",
    "\n",
    "for item in shopping_list:\n",
    "    if item == 'spam':\n",
    "        break\n",
    "    print('Buy {}'.format(item))"
   ]
  },
  {
   "cell_type": "markdown",
   "metadata": {},
   "source": [
    "### Break Coding Exercise\n",
    "\n",
    "Modify the code so that is stops printing when it reaches a number that's exactly divisible by 11. That number shoud be the last value printed."
   ]
  },
  {
   "cell_type": "code",
   "execution_count": 6,
   "metadata": {},
   "outputs": [
    {
     "name": "stdout",
     "output_type": "stream",
     "text": [
      "0\n",
      "7\n",
      "14\n",
      "21\n",
      "28\n",
      "35\n",
      "42\n",
      "49\n",
      "56\n",
      "63\n",
      "70\n",
      "77\n"
     ]
    }
   ],
   "source": [
    "for i in range(0, 100, 7):\n",
    "    if i % 11 == 0 and i != 0:\n",
    "        print(i)\n",
    "        break\n",
    "    print(i)"
   ]
  },
  {
   "cell_type": "markdown",
   "metadata": {},
   "source": [
    "### Else\n",
    "\n",
    "For loops also have an else clause. The else clause executes after the loop completes normally. This means that the loop did not encounter a break statement."
   ]
  },
  {
   "cell_type": "code",
   "execution_count": 4,
   "metadata": {},
   "outputs": [
    {
     "name": "stdout",
     "output_type": "stream",
     "text": [
      "I'll have a plate of that, then, please\n"
     ]
    }
   ],
   "source": [
    "meal = ['egg', 'bacon', 'beans', 'sausages']\n",
    "nasty_food_item = ''\n",
    "\n",
    "for item in meal:\n",
    "    if item == 'spam':\n",
    "        nasty_food_item = item\n",
    "        break\n",
    "else:\n",
    "    print('I\\'ll have a plate of that, then, please')\n",
    "    \n",
    "if nasty_food_item == 'spam':\n",
    "    print('Can\\'t I have anything without spam in it.')"
   ]
  },
  {
   "cell_type": "markdown",
   "metadata": {},
   "source": [
    "## Augmented Assignment\n",
    "\n",
    "Shorthand way to assign values to a variable."
   ]
  },
  {
   "cell_type": "code",
   "execution_count": null,
   "metadata": {},
   "outputs": [],
   "source": [
    "num = '9,223,372,036,854,775,807'\n",
    "cleaned_num = ''\n",
    "\n",
    "for char in num:\n",
    "    if char in '0123456789'\n",
    "        cleaned_num += char # This is the augmented assignment - less work for computer.\n",
    "        \n",
    "new_num = int(cleaned_num)\n",
    "print('The number is {}'.format(cleaned_num))"
   ]
  },
  {
   "cell_type": "code",
   "execution_count": null,
   "metadata": {},
   "outputs": [],
   "source": [
    "There are others such as\n",
    "\n",
    "```\n",
    "+=\n",
    "-=\n",
    "*=\n",
    "/=\n",
    "%=\n",
    "**= # to the power of\n",
    "<<=\n",
    ">>=\n",
    "&=\n",
    "^=\n",
    "|=\n",
    "```"
   ]
  },
  {
   "cell_type": "code",
   "execution_count": 14,
   "metadata": {},
   "outputs": [
    {
     "name": "stdout",
     "output_type": "stream",
     "text": [
      "24\n",
      "20\n",
      "100\n",
      "25.0\n",
      "625.0\n",
      "25.0\n"
     ]
    }
   ],
   "source": [
    "x = 23\n",
    "x += 1\n",
    "\n",
    "print(x) #24\n",
    "\n",
    "x -= 4\n",
    "print(x) #20\n",
    "\n",
    "x *= 5\n",
    "print(x) #100\n",
    "\n",
    "x /= 4\n",
    "print(x) #25.0\n",
    "\n",
    "x **= 2\n",
    "print(x) #625.0\n",
    "\n",
    "x %= 60\n",
    "print(x) #25.0"
   ]
  },
  {
   "cell_type": "markdown",
   "metadata": {},
   "source": [
    "## Augmented Assignment Coding Exercise\n",
    "\n",
    "Early computers could only perform addition. In order to multiply one number by another number, they performed repeated addition.\n",
    "\n",
    "Use a loop, and augmented assignment, to give **answer** the result of multiplying **number** by **multiplier**."
   ]
  },
  {
   "cell_type": "code",
   "execution_count": 16,
   "metadata": {},
   "outputs": [
    {
     "name": "stdout",
     "output_type": "stream",
     "text": [
      "36\n"
     ]
    }
   ],
   "source": [
    "number = 5\n",
    "multiplier = 8\n",
    "answer = 0\n",
    "\n",
    "for i in range(0, multiplier):\n",
    "    answer += number\n",
    "\n",
    "print(answer)"
   ]
  },
  {
   "cell_type": "markdown",
   "metadata": {},
   "source": [
    "# Challenge 1 : Program Flow (Part 1)\n",
    "\n",
    "Create a program that takes an IP address entered at the keyboard and prints out the number of segments it contains, and the length of each segment.\n",
    "\n",
    "An IP address consists of 4 numbers, separated from each other with a full stop. But your program should just count however many are entered\n",
    "Examples of the input you may get are:\n",
    " + 127.0.0.1\n",
    " + .192.168.0.1\n",
    " + 10.0.123456.255\n",
    " + 172.16\n",
    " + 255\n",
    "\n",
    "So your program should work even with invalid IP Addresses. We're just interested in the number of segments and how long each one is.\n",
    "\n",
    "Once you have a working program, here are some more suggestions for invalid input to test:\n",
    " + .123.45.678.91\n",
    " + 123.4567.8.9.\n",
    " + 123.156.289.10123456\n",
    " + 10.10t.10.10\n",
    " + 12.9.34.6.12.90\n",
    " + '' - that is, press enter without typing anything\n",
    "\n",
    "This challenge is intended to practise for loops and if/else statements, so although you could use other techniques (such as splitting the string up), that's not the approach we're looking for here.\n"
   ]
  },
  {
   "cell_type": "code",
   "execution_count": 30,
   "metadata": {},
   "outputs": [
    {
     "name": "stdout",
     "output_type": "stream",
     "text": [
      "Enter an IP address : 123.2.\n",
      "Number of Segments : 3\n",
      "Segment Lengths : [3, 1, 0]\n"
     ]
    }
   ],
   "source": [
    "ip = input('Enter an IP address : ')\n",
    "\n",
    "segments = 0\n",
    "seg_length = []\n",
    "\n",
    "if ip == '':\n",
    "    print()\n",
    "else:\n",
    "    length = 0\n",
    "    for char in ip:\n",
    "        if char == '.':\n",
    "            segments += 1\n",
    "            seg_length.append(length)\n",
    "            length = 0\n",
    "        else:\n",
    "            length += 1\n",
    "    else:\n",
    "        segments += 1\n",
    "        seg_length.append(length)\n",
    "            \n",
    "print('Number of Segments : {}'.format(segments))\n",
    "print('Segment Lengths : {}'.format(seg_length))"
   ]
  },
  {
   "cell_type": "markdown",
   "metadata": {},
   "source": [
    "# While Loops"
   ]
  },
  {
   "cell_type": "code",
   "execution_count": null,
   "metadata": {},
   "outputs": [],
   "source": [
    "i = 0\n",
    "while i < 10:\n",
    "    print('i is now{}'.format(i))\n",
    "    i += 1"
   ]
  },
  {
   "cell_type": "markdown",
   "metadata": {},
   "source": [
    "## Challenge - While Loop\n",
    "\n",
    "Modify the 'guess the number' program to use a while loop to allow as many guesses as necessary.\n",
    "\n",
    "The program should let the player know whether to guess higher or lower, and should print a message when the guess is correct. A correct guess will terminate the program.\n",
    "\n",
    "As an optional extra, allow the player to quit by entering 0 (zero) for their guess."
   ]
  },
  {
   "cell_type": "code",
   "execution_count": 35,
   "metadata": {},
   "outputs": [
    {
     "name": "stdout",
     "output_type": "stream",
     "text": [
      "Guess a number between 1 and 10\n",
      "1\n",
      "Please guess higher!\n",
      "2\n",
      "Please guess higher!\n",
      "3\n",
      "Please guess higher!\n",
      "4\n",
      "You've guessed correctly!\n"
     ]
    }
   ],
   "source": [
    "import random\n",
    "\n",
    "num = random.randint(1, 10)\n",
    "\n",
    "print('Guess a number between 1 and 10')\n",
    "\n",
    "while True:\n",
    "    guess = int(input())\n",
    "    \n",
    "    if guess == 0:\n",
    "        print('Game Over!')\n",
    "        break\n",
    "    elif guess == num:\n",
    "        print('You\\'ve guessed correctly!')\n",
    "        break\n",
    "    elif guess < num:\n",
    "        print('Please guess higher!')\n",
    "    else:\n",
    "        print('Please guess lower!')"
   ]
  }
 ],
 "metadata": {
  "kernelspec": {
   "display_name": "Python 3",
   "language": "python",
   "name": "python3"
  },
  "language_info": {
   "codemirror_mode": {
    "name": "ipython",
    "version": 3
   },
   "file_extension": ".py",
   "mimetype": "text/x-python",
   "name": "python",
   "nbconvert_exporter": "python",
   "pygments_lexer": "ipython3",
   "version": "3.6.6"
  }
 },
 "nbformat": 4,
 "nbformat_minor": 2
}
