{
 "cells": [
  {
   "cell_type": "code",
   "execution_count": null,
   "metadata": {},
   "outputs": [],
   "source": [
    "__author__ = 'Khrishan Patel'"
   ]
  },
  {
   "cell_type": "markdown",
   "metadata": {},
   "source": [
    "# if statement"
   ]
  },
  {
   "cell_type": "code",
   "execution_count": 8,
   "metadata": {},
   "outputs": [
    {
     "name": "stdout",
     "output_type": "stream",
     "text": [
      "Please enter your name : Khrishan\n",
      "How old are you, Khrishan? 15\n",
      "15\n",
      "Please come back in 3 years!\n"
     ]
    }
   ],
   "source": [
    "name = input('Please enter your name : ')\n",
    "age = int(input('How old are you, {}? '.format(name))) # Only accepts numbers\n",
    "print(age)\n",
    "\n",
    "if age >= 18:\n",
    "    print('You are old enough to vote!')\n",
    "else:\n",
    "    print('Please come back in {} years!'.format(18 - age))\n"
   ]
  },
  {
   "cell_type": "code",
   "execution_count": 16,
   "metadata": {},
   "outputs": [
    {
     "name": "stdout",
     "output_type": "stream",
     "text": [
      "Please guess a number between 1 and 10 : \n",
      "8\n",
      "Print guess lower!\n",
      "5\n",
      "Well Done!\n"
     ]
    }
   ],
   "source": [
    "print('Please guess a number between 1 and 10 : ')\n",
    "guess = int(input())\n",
    "\n",
    "if guess != 5:\n",
    "    if guess < 5:\n",
    "        print('Please guess higher!')\n",
    "    else:\n",
    "        print('Print guess lower!')\n",
    "        \n",
    "    guess = int(input())\n",
    "    \n",
    "    if guess == 5:\n",
    "        print(\"Well Done!\")\n",
    "    else:\n",
    "        print('Sorry, you haven\\'t guessed correctly!')\n",
    "else:\n",
    "    print('You got it first time!')"
   ]
  },
  {
   "cell_type": "markdown",
   "metadata": {},
   "source": [
    "## Coding Exercise\n",
    "\n",
    "Write a small program that assigns the name of 2 trees to 2 variables, called __tree1__ and __tree2__.\n",
    "\n",
    "If the values of the 2 variables are equal, print the message __The trees are the same__, otherwise print __The trees are different__.\n",
    "\n",
    "This exercise system doesn't allow __input__ to be used, so don't use input on lines 1 and 2 - just enter your text inside the quotes for the 2 trees."
   ]
  },
  {
   "cell_type": "code",
   "execution_count": 17,
   "metadata": {},
   "outputs": [
    {
     "name": "stdout",
     "output_type": "stream",
     "text": [
      "The trees are different\n"
     ]
    }
   ],
   "source": [
    "tree1 = 'tree1'\n",
    "tree2 = 'tree2'\n",
    "\n",
    "if tree1 == tree2:\n",
    "    print('The trees are the same')\n",
    "else:\n",
    "    print('The trees are different')"
   ]
  },
  {
   "cell_type": "markdown",
   "metadata": {},
   "source": [
    "## and operator"
   ]
  },
  {
   "cell_type": "code",
   "execution_count": 19,
   "metadata": {},
   "outputs": [
    {
     "name": "stdout",
     "output_type": "stream",
     "text": [
      "How old are you? : 24\n",
      "Have a good day at work!\n",
      "Have a good day at work!\n"
     ]
    }
   ],
   "source": [
    "age = int(input('How old are you? : '))\n",
    "\n",
    "if age >= 16 and age <=65:\n",
    "    print('Have a good day at work!')\n",
    "\n",
    "# is the same as   \n",
    "    \n",
    "if 15 < age < 66:\n",
    "    print('Have a good day at work!')"
   ]
  },
  {
   "cell_type": "markdown",
   "metadata": {},
   "source": [
    "## or operator"
   ]
  },
  {
   "cell_type": "code",
   "execution_count": 2,
   "metadata": {},
   "outputs": [
    {
     "name": "stdout",
     "output_type": "stream",
     "text": [
      "How old are you? : 24\n",
      "Have a good day at work.\n"
     ]
    }
   ],
   "source": [
    "age = int(input('How old are you? : '))\n",
    "\n",
    "if age < 16 or age > 65:\n",
    "    print('Enjoy your free time.')\n",
    "else:\n",
    "    print('Have a good day at work.')"
   ]
  },
  {
   "cell_type": "code",
   "execution_count": 4,
   "metadata": {},
   "outputs": [
    {
     "name": "stdout",
     "output_type": "stream",
     "text": [
      "False: False\n",
      "None: False\n",
      "0: False\n",
      "0.0: False\n",
      "empty list []: False\n",
      "empty tuple (): False\n",
      "empty string '': False\n",
      "empty string \"\": False\n",
      "empty mapping {}: False\n",
      "\n"
     ]
    }
   ],
   "source": [
    "#Things that return False\n",
    "print(\"\"\"False: {0}\n",
    "None: {1}\n",
    "0: {2}\n",
    "0.0: {3}\n",
    "empty list []: {4}\n",
    "empty tuple (): {5}\n",
    "empty string '': {6}\n",
    "empty string \"\": {7}\n",
    "empty mapping {{}}: {8}\n",
    "\"\"\".format(False, bool(None), bool(0), bool(0.0), bool([]), bool(()), bool(''), bool(\"\"), bool({})))"
   ]
  },
  {
   "cell_type": "markdown",
   "metadata": {},
   "source": [
    "## not operator"
   ]
  },
  {
   "cell_type": "code",
   "execution_count": 5,
   "metadata": {},
   "outputs": [
    {
     "name": "stdout",
     "output_type": "stream",
     "text": [
      "True\n",
      "False\n"
     ]
    }
   ],
   "source": [
    "print(not False)\n",
    "print(not True)"
   ]
  },
  {
   "cell_type": "markdown",
   "metadata": {},
   "source": [
    "## in operator"
   ]
  },
  {
   "cell_type": "code",
   "execution_count": 7,
   "metadata": {},
   "outputs": [
    {
     "name": "stdout",
     "output_type": "stream",
     "text": [
      "Enter a Character : K\n",
      "I don't need that letter\n"
     ]
    }
   ],
   "source": [
    "# This is a case sensitive example\n",
    "\n",
    "parrot = 'Norwegian Blue'\n",
    "\n",
    "letter = input('Enter a Character : ')\n",
    "\n",
    "if letter in parrot:\n",
    "    print('Give me an {}, Bob'.format(letter))\n",
    "else:\n",
    "    print('I don\\'t need that letter')"
   ]
  },
  {
   "cell_type": "markdown",
   "metadata": {},
   "source": [
    "# Coding Exercise\n",
    "\n",
    "Write a small program that assingns the valule 5 to one variable, called **x**, and the value 7 to another, called **y**.\n",
    "\n",
    "Your program should then use an **if** statement to compare the values, and print out **x is greated than y** if x is greater, or **x is smaller than y** if y is greater. If x equals y, print out **x equals y**."
   ]
  },
  {
   "cell_type": "code",
   "execution_count": 8,
   "metadata": {},
   "outputs": [
    {
     "name": "stdout",
     "output_type": "stream",
     "text": [
      "x is smaller than y\n"
     ]
    }
   ],
   "source": [
    "x = 5\n",
    "y = 7\n",
    "\n",
    "if x > y:\n",
    "    print('x is greater than y')\n",
    "elif x < y:\n",
    "    print('x is smaller than y')\n",
    "else:\n",
    "    print('x equals y')"
   ]
  },
  {
   "cell_type": "markdown",
   "metadata": {},
   "source": [
    "# Challenge - If Then Else\n",
    "\n",
    "Write a small program to ask for a name and an age.\n",
    "When both values have been entered, check if the person\n",
    "is the right age to go on an 18-30 holiday (they must be\n",
    "over 18 and under 31).\n",
    "If they are, welcome them to the holiday, otherwise print\n",
    "a (polite) message refusing them entry."
   ]
  },
  {
   "cell_type": "code",
   "execution_count": 10,
   "metadata": {},
   "outputs": [
    {
     "name": "stdout",
     "output_type": "stream",
     "text": [
      "Please enter your name : Khrishan\n",
      "Please enter your age : 24\n",
      "Welcome to the Holiday Khrishan!\n"
     ]
    }
   ],
   "source": [
    "name = input('Please enter your name : ')\n",
    "age = int(input('Please enter your age : '))\n",
    "\n",
    "if 18 < age < 31:\n",
    "    print('Welcome to the Holiday {}!'.format(name))\n",
    "else:\n",
    "    print('I don\\'t think so {}'.format(name))"
   ]
  },
  {
   "cell_type": "markdown",
   "metadata": {},
   "source": [
    "## For Loop"
   ]
  },
  {
   "cell_type": "code",
   "execution_count": 12,
   "metadata": {},
   "outputs": [
    {
     "name": "stdout",
     "output_type": "stream",
     "text": [
      "1\n",
      "2\n",
      "3\n",
      "4\n",
      "5\n",
      "6\n",
      "7\n",
      "8\n",
      "9\n",
      "10\n",
      "11\n",
      "12\n",
      "13\n",
      "14\n",
      "15\n",
      "16\n",
      "17\n",
      "18\n",
      "19\n"
     ]
    }
   ],
   "source": [
    "# Notice that it includes 1 but does not include 20\n",
    "for i in range(1,20):\n",
    "    print(i)"
   ]
  },
  {
   "cell_type": "code",
   "execution_count": 13,
   "metadata": {},
   "outputs": [
    {
     "name": "stdout",
     "output_type": "stream",
     "text": [
      "9223372036854775807"
     ]
    }
   ],
   "source": [
    "num = '9,223,372,036,854,775,807'\n",
    "for i in range(0, len(num)):\n",
    "    if num[i] in '0123456789':\n",
    "        print(num[i], end='')\n",
    "        \n",
    "# This is the interesting part of the print statement, defining the end section.\n",
    "# Default is \\n"
   ]
  },
  {
   "cell_type": "markdown",
   "metadata": {},
   "source": [
    "## Coding Exercise\n",
    "\n",
    "Write a program to print out all the numbers from 0 to 9.\n",
    "\n",
    "Each number should print on a new line."
   ]
  },
  {
   "cell_type": "code",
   "execution_count": 14,
   "metadata": {},
   "outputs": [
    {
     "name": "stdout",
     "output_type": "stream",
     "text": [
      "0\n",
      "1\n",
      "2\n",
      "3\n",
      "4\n",
      "5\n",
      "6\n",
      "7\n",
      "8\n",
      "9\n"
     ]
    }
   ],
   "source": [
    "for i in range(0, 10):\n",
    "    print(i)"
   ]
  },
  {
   "cell_type": "markdown",
   "metadata": {},
   "source": [
    "## Entending For Loops"
   ]
  },
  {
   "cell_type": "code",
   "execution_count": 15,
   "metadata": {},
   "outputs": [
    {
     "name": "stdout",
     "output_type": "stream",
     "text": [
      "The number is 9223372036854775807\n"
     ]
    }
   ],
   "source": [
    "num = '9,223,372,036,854,775,807'\n",
    "cleaned_num = ''\n",
    "\n",
    "for char in num:\n",
    "    if char in '0123456789':\n",
    "        cleaned_num = cleaned_num + char\n",
    "        \n",
    "new_num = int(cleaned_num)\n",
    "print('The number is {}'.format(cleaned_num))"
   ]
  },
  {
   "cell_type": "code",
   "execution_count": 17,
   "metadata": {},
   "outputs": [
    {
     "name": "stdout",
     "output_type": "stream",
     "text": [
      "This parrot is non pinin'.\n",
      "This parrot is no more.\n",
      "This parrot is a stiff.\n",
      "This parrot is bereft of life.\n"
     ]
    }
   ],
   "source": [
    "for state in ['non pinin\\'', 'no more', 'a stiff', 'bereft of life']:\n",
    "    print('This parrot is {}.'.format(state))"
   ]
  },
  {
   "cell_type": "code",
   "execution_count": 18,
   "metadata": {},
   "outputs": [
    {
     "name": "stdout",
     "output_type": "stream",
     "text": [
      "i is 0\n",
      "i is 5\n",
      "i is 10\n",
      "i is 15\n",
      "i is 20\n",
      "i is 25\n",
      "i is 30\n",
      "i is 35\n",
      "i is 40\n",
      "i is 45\n",
      "i is 50\n",
      "i is 55\n",
      "i is 60\n",
      "i is 65\n",
      "i is 70\n",
      "i is 75\n",
      "i is 80\n",
      "i is 85\n",
      "i is 90\n",
      "i is 95\n"
     ]
    }
   ],
   "source": [
    "# Introducing a step as part of the for loop (That is the 3rd parameter.)\n",
    "# Stops as 95 as the range is 0-99 inclusive\n",
    "for i in range(0,100,5):\n",
    "    print('i is {}'.format(i))"
   ]
  },
  {
   "cell_type": "code",
   "execution_count": 2,
   "metadata": {},
   "outputs": [
    {
     "name": "stdout",
     "output_type": "stream",
     "text": [
      "No  1 Squared is    1 and cubed is    1\n",
      "No  2 Squared is    4 and cubed is    8\n",
      "No  3 Squared is    9 and cubed is   27\n",
      "No  4 Squared is   16 and cubed is   64\n",
      "No  5 Squared is   25 and cubed is  125\n",
      "No  6 Squared is   36 and cubed is  216\n",
      "No  7 Squared is   49 and cubed is  343\n",
      "No  8 Squared is   64 and cubed is  512\n",
      "No  9 Squared is   81 and cubed is  729\n",
      "No 10 Squared is  100 and cubed is 1000\n",
      "No 11 Squared is  121 and cubed is 1331\n"
     ]
    }
   ],
   "source": [
    "for i in range(1,12):\n",
    "    print('No {:2} Squared is {:4} and cubed is {:4}'.format(i, i**2, i**3))"
   ]
  },
  {
   "cell_type": "markdown",
   "metadata": {},
   "source": [
    "## Coding Exercise\n",
    "\n",
    "Write a program to print out the capital letters in the string provided."
   ]
  },
  {
   "cell_type": "code",
   "execution_count": 19,
   "metadata": {},
   "outputs": [
    {
     "name": "stdout",
     "output_type": "stream",
     "text": [
      "A\n",
      "S\n",
      "M\n",
      "E\n",
      "W\n",
      "P\n",
      "O\n",
      "I\n",
      "R\n",
      "F\n",
      "W\n",
      "S\n",
      "P\n",
      "H\n",
      "R\n"
     ]
    }
   ],
   "source": [
    "quote = \"\"\"\n",
    "Alright, but apart from the Sanitation, the Medicine, Education, Wine,\n",
    "Public Order, Irrigation, Roads, the Fresh-Water System,\n",
    "and Public Health, what have the Romans ever done for us?\n",
    "\"\"\"\n",
    "\n",
    "for char in quote:\n",
    "    if char in 'ABCDEFGHIJKLMNOPQRSTUVWXYZ':\n",
    "        print(char)"
   ]
  },
  {
   "cell_type": "markdown",
   "metadata": {},
   "source": [
    "Write a program to print out all the numbers from 0 to 100 that are divisible by 7"
   ]
  },
  {
   "cell_type": "code",
   "execution_count": 21,
   "metadata": {},
   "outputs": [
    {
     "name": "stdout",
     "output_type": "stream",
     "text": [
      "0\n",
      "7\n",
      "14\n",
      "21\n",
      "28\n",
      "35\n",
      "42\n",
      "49\n",
      "56\n",
      "63\n",
      "70\n",
      "77\n",
      "84\n",
      "91\n",
      "98\n"
     ]
    }
   ],
   "source": [
    "for i in range(0,100,7):\n",
    "    print(i)"
   ]
  },
  {
   "cell_type": "markdown",
   "metadata": {},
   "source": [
    "## Understanding Continue, Break and Else"
   ]
  },
  {
   "cell_type": "code",
   "execution_count": null,
   "metadata": {},
   "outputs": [],
   "source": []
  },
  {
   "cell_type": "code",
   "execution_count": null,
   "metadata": {},
   "outputs": [],
   "source": []
  },
  {
   "cell_type": "code",
   "execution_count": null,
   "metadata": {},
   "outputs": [],
   "source": []
  },
  {
   "cell_type": "code",
   "execution_count": null,
   "metadata": {},
   "outputs": [],
   "source": []
  },
  {
   "cell_type": "code",
   "execution_count": null,
   "metadata": {},
   "outputs": [],
   "source": []
  }
 ],
 "metadata": {
  "kernelspec": {
   "display_name": "Python 3",
   "language": "python",
   "name": "python3"
  },
  "language_info": {
   "codemirror_mode": {
    "name": "ipython",
    "version": 3
   },
   "file_extension": ".py",
   "mimetype": "text/x-python",
   "name": "python",
   "nbconvert_exporter": "python",
   "pygments_lexer": "ipython3",
   "version": "3.6.6"
  }
 },
 "nbformat": 4,
 "nbformat_minor": 2
}
