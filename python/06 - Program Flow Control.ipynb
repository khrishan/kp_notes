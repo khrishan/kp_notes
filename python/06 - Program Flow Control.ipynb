{
 "cells": [
  {
   "cell_type": "code",
   "execution_count": null,
   "metadata": {},
   "outputs": [],
   "source": [
    "__author__ = 'Khrishan Patel'"
   ]
  },
  {
   "cell_type": "markdown",
   "metadata": {},
   "source": [
    "# if statement"
   ]
  },
  {
   "cell_type": "code",
   "execution_count": 8,
   "metadata": {},
   "outputs": [
    {
     "name": "stdout",
     "output_type": "stream",
     "text": [
      "Please enter your name : Khrishan\n",
      "How old are you, Khrishan? 15\n",
      "15\n",
      "Please come back in 3 years!\n"
     ]
    }
   ],
   "source": [
    "name = input('Please enter your name : ')\n",
    "age = int(input('How old are you, {}? '.format(name))) # Only accepts numbers\n",
    "print(age)\n",
    "\n",
    "if age >= 18:\n",
    "    print('You are old enough to vote!')\n",
    "else:\n",
    "    print('Please come back in {} years!'.format(18 - age))\n"
   ]
  },
  {
   "cell_type": "code",
   "execution_count": 16,
   "metadata": {},
   "outputs": [
    {
     "name": "stdout",
     "output_type": "stream",
     "text": [
      "Please guess a number between 1 and 10 : \n",
      "8\n",
      "Print guess lower!\n",
      "5\n",
      "Well Done!\n"
     ]
    }
   ],
   "source": [
    "print('Please guess a number between 1 and 10 : ')\n",
    "guess = int(input())\n",
    "\n",
    "if guess != 5:\n",
    "    if guess < 5:\n",
    "        print('Please guess higher!')\n",
    "    else:\n",
    "        print('Print guess lower!')\n",
    "        \n",
    "    guess = int(input())\n",
    "    \n",
    "    if guess == 5:\n",
    "        print(\"Well Done!\")\n",
    "    else:\n",
    "        print('Sorry, you haven\\'t guessed correctly!')\n",
    "else:\n",
    "    print('You got it first time!')"
   ]
  },
  {
   "cell_type": "markdown",
   "metadata": {},
   "source": [
    "## and operator"
   ]
  },
  {
   "cell_type": "code",
   "execution_count": 19,
   "metadata": {},
   "outputs": [
    {
     "name": "stdout",
     "output_type": "stream",
     "text": [
      "How old are you? : 24\n",
      "Have a good day at work!\n",
      "Have a good day at work!\n"
     ]
    }
   ],
   "source": [
    "age = int(input('How old are you? : '))\n",
    "\n",
    "if age >= 16 and age <=65:\n",
    "    print('Have a good day at work!')\n",
    "\n",
    "# is the same as   \n",
    "    \n",
    "if 15 < age < 66:\n",
    "    print('Have a good day at work!')"
   ]
  },
  {
   "cell_type": "markdown",
   "metadata": {},
   "source": [
    "## or operator"
   ]
  },
  {
   "cell_type": "code",
   "execution_count": null,
   "metadata": {},
   "outputs": [],
   "source": []
  },
  {
   "cell_type": "markdown",
   "metadata": {},
   "source": [
    "## Coding Exercise\n",
    "\n",
    "Write a small program that assigns the name of 2 trees to 2 variables, called __tree1__ and __tree2__.\n",
    "\n",
    "If the values of the 2 variables are equal, print the message __The trees are the same__, otherwise print __The trees are different__.\n",
    "\n",
    "This exercise system doesn't allow __input__ to be used, so don't use input on lines 1 and 2 - just enter your text inside the quotes for the 2 trees."
   ]
  },
  {
   "cell_type": "code",
   "execution_count": 17,
   "metadata": {},
   "outputs": [
    {
     "name": "stdout",
     "output_type": "stream",
     "text": [
      "The trees are different\n"
     ]
    }
   ],
   "source": [
    "tree1 = 'tree1'\n",
    "tree2 = 'tree2'\n",
    "\n",
    "if tree1 == tree2:\n",
    "    print('The trees are the same')\n",
    "else:\n",
    "    print('The trees are different')"
   ]
  },
  {
   "cell_type": "code",
   "execution_count": null,
   "metadata": {},
   "outputs": [],
   "source": []
  },
  {
   "cell_type": "code",
   "execution_count": null,
   "metadata": {},
   "outputs": [],
   "source": []
  },
  {
   "cell_type": "code",
   "execution_count": null,
   "metadata": {},
   "outputs": [],
   "source": []
  },
  {
   "cell_type": "markdown",
   "metadata": {},
   "source": [
    "## For Loop"
   ]
  },
  {
   "cell_type": "code",
   "execution_count": 2,
   "metadata": {},
   "outputs": [
    {
     "name": "stdout",
     "output_type": "stream",
     "text": [
      "No  1 Squared is    1 and cubed is    1\n",
      "No  2 Squared is    4 and cubed is    8\n",
      "No  3 Squared is    9 and cubed is   27\n",
      "No  4 Squared is   16 and cubed is   64\n",
      "No  5 Squared is   25 and cubed is  125\n",
      "No  6 Squared is   36 and cubed is  216\n",
      "No  7 Squared is   49 and cubed is  343\n",
      "No  8 Squared is   64 and cubed is  512\n",
      "No  9 Squared is   81 and cubed is  729\n",
      "No 10 Squared is  100 and cubed is 1000\n",
      "No 11 Squared is  121 and cubed is 1331\n"
     ]
    }
   ],
   "source": [
    "for i in range(1,12):\n",
    "    print('No {:2} Squared is {:4} and cubed is {:4}'.format(i, i**2, i**3))"
   ]
  },
  {
   "cell_type": "code",
   "execution_count": null,
   "metadata": {},
   "outputs": [],
   "source": []
  }
 ],
 "metadata": {
  "kernelspec": {
   "display_name": "Python 3",
   "language": "python",
   "name": "python3"
  },
  "language_info": {
   "codemirror_mode": {
    "name": "ipython",
    "version": 3
   },
   "file_extension": ".py",
   "mimetype": "text/x-python",
   "name": "python",
   "nbconvert_exporter": "python",
   "pygments_lexer": "ipython3",
   "version": "3.6.3"
  }
 },
 "nbformat": 4,
 "nbformat_minor": 2
}
