{
 "cells": [
  {
   "cell_type": "code",
   "execution_count": null,
   "metadata": {},
   "outputs": [],
   "source": [
    "__author__ = 'Khrishan Patel'"
   ]
  },
  {
   "cell_type": "markdown",
   "metadata": {},
   "source": [
    "# Reading and Writing Text Files\n",
    "\n",
    "More information can be found at : [http://docs.python.org/3/library/functions.html#open](http://docs.python.org/3/library/functions.html#open)\n",
    "\n",
    "Three Steps : \n",
    "\n",
    "1. Open the file\n",
    "2. Read in the file\n",
    "3. Close the file."
   ]
  },
  {
   "cell_type": "code",
   "execution_count": 11,
   "metadata": {},
   "outputs": [
    {
     "name": "stdout",
     "output_type": "stream",
     "text": [
      "\"Beware the Jabberwock, my son!\n",
      "\n",
      "The Jabberwock, with eyes of flame,\n",
      "\n",
      "\"And hast thou slain the Jabberwock?\n",
      "\n"
     ]
    }
   ],
   "source": [
    "# Method 1 : Basic\n",
    "# This way means you have to remember to\n",
    "# close the file.\n",
    "\n",
    "# jabber = open('examples/sample.txt', 'r') #   different modes available r=read, w=write, a=append, \n",
    "\n",
    "# for line in jabber:\n",
    "#     print(line)\n",
    "# jabber.close()\n",
    "\n",
    "# Method 2 : Better\n",
    "# This way means you don't have to\n",
    "# remember to close the file.\n",
    "\n",
    "with open('examples/sample.txt', 'r') as jabber:\n",
    "    for line in jabber:\n",
    "        if 'jabberwock' in line.lower():\n",
    "            print(line)"
   ]
  },
  {
   "cell_type": "markdown",
   "metadata": {},
   "source": [
    "`readline()` - read a single line from a file. Returns a string.\n",
    "\n",
    "`readlines()` = read an entire file in one go. Returns a list of string."
   ]
  },
  {
   "cell_type": "code",
   "execution_count": 12,
   "metadata": {},
   "outputs": [
    {
     "name": "stdout",
     "output_type": "stream",
     "text": [
      "'Twas brillig, and the slithy toves\n",
      "Did gyre and gimble in the wabe;\n",
      "All mimsy were the borogoves,\n",
      "And the mome raths outgrabe.\n",
      "\n",
      "\"Beware the Jabberwock, my son!\n",
      "The jaws that bite, the claws that catch!\n",
      "Beware the Jubjub bird, and shun\n",
      "The frumious Bandersnatch!\"\n",
      "\n",
      "He took his vorpal sword in hand:\n",
      "Long time the manxome foe he sought,\n",
      "So rested he by the Tumtum tree,\n",
      "And stood a while in thought.\n",
      "\n",
      "And, as in uffish thought he stood,\n",
      "The Jabberwock, with eyes of flame,\n",
      "Came whiffling through the tulgey wood,\n",
      "And burbled as it came!\n",
      "\n",
      "One two! One two! And through and through\n",
      "The vorpal blade went snicker-snack!\n",
      "He left it dead, and with its head\n",
      "He went galumphing back.\n",
      "\n",
      "\"And hast thou slain the Jabberwock?\n",
      "Come to my arms, my beamish boy!\"\n",
      "\"Oh frabjous day! Callooh! Callay!\"\n",
      "He chortled in his joy.\n",
      "\n",
      "'Twas brillig, and the slithy toves\n",
      "Did gyre and gimble in the wabe:\n",
      "All mimsy were the borogoves,\n",
      "And the mome raths outgrabe.\n",
      "\n",
      "'Twas brillig, and the slithy toves\n",
      "Did gyre and gimble in the wabe;\n",
      "All mimsy were the borogoves,\n",
      "And the mome raths outgrabe.\n",
      "\n",
      "\"Beware the Jabberwock, my son!\n",
      "The jaws that bite, the claws that catch!\n",
      "Beware the Jubjub bird, and shun\n",
      "The frumious Bandersnatch!\"\n",
      "\n",
      "He took his vorpal sword in hand:\n",
      "Long time the manxome foe he sought,\n",
      "So rested he by the Tumtum tree,\n",
      "And stood a while in thought.\n",
      "\n",
      "And, as in uffish thought he stood,\n",
      "The Jabberwock, with eyes of flame,\n",
      "Came whiffling through the tulgey wood,\n",
      "And burbled as it came!\n",
      "\n",
      "One two! One two! And through and through\n",
      "The vorpal blade went snicker-snack!\n",
      "He left it dead, and with its head\n",
      "He went galumphing back.\n",
      "\n",
      "\"And hast thou slain the Jabberwock?\n",
      "Come to my arms, my beamish boy!\"\n",
      "\"Oh frabjous day! Callooh! Callay!\"\n",
      "He chortled in his joy.\n",
      "\n",
      "'Twas brillig, and the slithy toves\n",
      "Did gyre and gimble in the wabe:\n",
      "All mimsy were the borogoves,\n",
      "And the mome raths outgrabe.\n",
      "\n"
     ]
    }
   ],
   "source": [
    "with open('examples/sample.txt', 'r') as jabber:\n",
    "    line = jabber.readline() \n",
    "    while line:\n",
    "        print(line, end='') # removes the double \\n\n",
    "        line = jabber.readline()\n",
    "\n",
    "with open('examples/sample.txt', 'r') as jabber:\n",
    "    lines = jabber.readlines()\n",
    "    for line in lines:\n",
    "        print(line, end='')"
   ]
  },
  {
   "cell_type": "markdown",
   "metadata": {},
   "source": [
    "# Writing Text Files\n",
    "\n",
    "When using the write method, it will create a file if it doesn't exist, but will overwrite the contents if a file of the same filename does exist.\n",
    "\n",
    "Data is written to a buffer (in memory) and is then written to a file in the background. If you want the data to be written to the file immedietly, then add the `flush=True` to the `print` statement."
   ]
  },
  {
   "cell_type": "code",
   "execution_count": 18,
   "metadata": {},
   "outputs": [
    {
     "name": "stdout",
     "output_type": "stream",
     "text": [
      "Done!\n",
      "['Adelaide', 'Alice Springs', 'Darwin', 'Melbourne', 'Sydney']\n"
     ]
    }
   ],
   "source": [
    "cities = ['Adelaide', 'Alice Springs', 'Darwin', 'Melbourne', 'Sydney']\n",
    "\n",
    "with open('examples/cities.txt', 'w') as city_file:\n",
    "    for city in cities:\n",
    "        print(city, file=city_file, flush=True) # You can write to a file using print!!!\n",
    "    \n",
    "    print('Done!')\n",
    "\n",
    "# Can we now read back the data\n",
    "cities_new = []\n",
    "\n",
    "with open('examples/cities.txt', 'r') as city_file:\n",
    "    for city in city_file:\n",
    "        cities_new.append(city.strip('\\n'))\n",
    "\n",
    "print(cities_new)"
   ]
  },
  {
   "cell_type": "code",
   "execution_count": 19,
   "metadata": {},
   "outputs": [
    {
     "name": "stdout",
     "output_type": "stream",
     "text": [
      "Done!\n",
      "('More Mayhem', 'Imelda May', 2011, ((1, 'Pulling the Rug'), (2, 'Psycho'), (3, 'Mayhem'), (4, 'Kentish Town Waltz')))\n",
      "More Mayhem\n",
      "Imelda May\n",
      "2011\n"
     ]
    }
   ],
   "source": [
    "imelda = 'More Mayhem', 'Imelda May', 2011, (\n",
    "    (1, 'Pulling the Rug'), (2, 'Psycho'), (3, 'Mayhem'), (4, 'Kentish Town Waltz') \n",
    ")\n",
    "\n",
    "with open('examples/imelda.txt', 'w') as imelda_file:\n",
    "    print(imelda, file=imelda_file)\n",
    "    print('Done!')\n",
    "\n",
    "with open('examples/imelda.txt', 'r') as imelda_file:\n",
    "    contents = imelda_file.readline()\n",
    "\n",
    "imelda = eval(contents) # The eval function lets a Python program run Python code within itself.\n",
    "\n",
    "print(imelda)\n",
    "title, artist, year, tracks = imelda\n",
    "\n",
    "print(title)\n",
    "print(artist)\n",
    "print(year)\n"
   ]
  },
  {
   "cell_type": "markdown",
   "metadata": {},
   "source": [
    "# Challenge - Writing Text Files\n",
    "\n",
    "Write a program to append the times tables to our jabberwocky poem in sample.txt. We want the tables from 2 to 12 (similar to the output from the For loops part 2 lecture in section 6).\n",
    "\n",
    "The first column of numbers should be right justified. As an example, the 2 times table should look like this:\n",
    "```\n",
    " 1 times 2 is 2\n",
    " 2 times 2 is 4\n",
    " 3 times 2 is 6\n",
    " 4 times 2 is 8\n",
    " 5 times 2 is 10\n",
    " 6 times 2 is 12\n",
    " 7 times 2 is 14\n",
    " 8 times 2 is 16\n",
    " 9 times 2 is 18\n",
    "10 times 2 is 20\n",
    "11 times 2 is 22 \n",
    "12 times 2 is 24\n",
    " --------------------\n",
    "```"
   ]
  },
  {
   "cell_type": "code",
   "execution_count": 21,
   "metadata": {},
   "outputs": [
    {
     "name": "stdout",
     "output_type": "stream",
     "text": [
      "Done!\n"
     ]
    }
   ],
   "source": [
    "with open('examples/sample.txt', 'a') as jabber_file:\n",
    "    for i in range(2, 13):\n",
    "        for j in range(1, 13):\n",
    "            print('{:2} times {} is {}'.format(j, i, (j*i)), file=jabber_file)\n",
    "        print('-' * 20, file=jabber_file)\n",
    "    print('Done!')"
   ]
  },
  {
   "cell_type": "code",
   "execution_count": null,
   "metadata": {},
   "outputs": [],
   "source": [
    "# Writing Binary Files"
   ]
  },
  {
   "cell_type": "code",
   "execution_count": null,
   "metadata": {},
   "outputs": [],
   "source": []
  },
  {
   "cell_type": "code",
   "execution_count": null,
   "metadata": {},
   "outputs": [],
   "source": []
  },
  {
   "cell_type": "code",
   "execution_count": null,
   "metadata": {},
   "outputs": [],
   "source": []
  },
  {
   "cell_type": "code",
   "execution_count": 1,
   "metadata": {},
   "outputs": [
    {
     "name": "stdout",
     "output_type": "stream",
     "text": [
      "hello\n"
     ]
    }
   ],
   "source": []
  },
  {
   "cell_type": "code",
   "execution_count": null,
   "metadata": {},
   "outputs": [],
   "source": []
  }
 ],
 "metadata": {
  "kernelspec": {
   "display_name": "Python 3",
   "language": "python",
   "name": "python3"
  },
  "language_info": {
   "codemirror_mode": {
    "name": "ipython",
    "version": 3
   },
   "file_extension": ".py",
   "mimetype": "text/x-python",
   "name": "python",
   "nbconvert_exporter": "python",
   "pygments_lexer": "ipython3",
   "version": "3.6.6"
  }
 },
 "nbformat": 4,
 "nbformat_minor": 2
}
