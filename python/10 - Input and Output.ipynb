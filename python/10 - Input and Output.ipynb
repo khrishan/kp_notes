{
 "cells": [
  {
   "cell_type": "code",
   "execution_count": null,
   "metadata": {},
   "outputs": [],
   "source": [
    "__author__ = 'Khrishan Patel'"
   ]
  },
  {
   "cell_type": "markdown",
   "metadata": {},
   "source": [
    "# Reading and Writing Text Files\n",
    "\n",
    "More information can be found at : [http://docs.python.org/3/library/functions.html#open](http://docs.python.org/3/library/functions.html#open)\n",
    "\n",
    "Three Steps : \n",
    "\n",
    "1. Open the file\n",
    "2. Read in the file\n",
    "3. Close the file."
   ]
  },
  {
   "cell_type": "code",
   "execution_count": 11,
   "metadata": {},
   "outputs": [
    {
     "name": "stdout",
     "output_type": "stream",
     "text": [
      "\"Beware the Jabberwock, my son!\n",
      "\n",
      "The Jabberwock, with eyes of flame,\n",
      "\n",
      "\"And hast thou slain the Jabberwock?\n",
      "\n"
     ]
    }
   ],
   "source": [
    "# Method 1 : Basic\n",
    "# This way means you have to remember to\n",
    "# close the file.\n",
    "\n",
    "# jabber = open('examples/sample.txt', 'r') #   different modes available r=read, w=write, a=append, \n",
    "\n",
    "# for line in jabber:\n",
    "#     print(line)\n",
    "# jabber.close()\n",
    "\n",
    "# Method 2 : Better\n",
    "# This way means you don't have to\n",
    "# remember to close the file.\n",
    "\n",
    "with open('examples/sample.txt', 'r') as jabber:\n",
    "    for line in jabber:\n",
    "        if 'jabberwock' in line.lower():\n",
    "            print(line)"
   ]
  },
  {
   "cell_type": "markdown",
   "metadata": {},
   "source": [
    "`readline()` - read a single line from a file. Returns a string.\n",
    "\n",
    "`readlines()` = read an entire file in one go. Returns a list of string."
   ]
  },
  {
   "cell_type": "code",
   "execution_count": 12,
   "metadata": {},
   "outputs": [
    {
     "name": "stdout",
     "output_type": "stream",
     "text": [
      "'Twas brillig, and the slithy toves\n",
      "Did gyre and gimble in the wabe;\n",
      "All mimsy were the borogoves,\n",
      "And the mome raths outgrabe.\n",
      "\n",
      "\"Beware the Jabberwock, my son!\n",
      "The jaws that bite, the claws that catch!\n",
      "Beware the Jubjub bird, and shun\n",
      "The frumious Bandersnatch!\"\n",
      "\n",
      "He took his vorpal sword in hand:\n",
      "Long time the manxome foe he sought,\n",
      "So rested he by the Tumtum tree,\n",
      "And stood a while in thought.\n",
      "\n",
      "And, as in uffish thought he stood,\n",
      "The Jabberwock, with eyes of flame,\n",
      "Came whiffling through the tulgey wood,\n",
      "And burbled as it came!\n",
      "\n",
      "One two! One two! And through and through\n",
      "The vorpal blade went snicker-snack!\n",
      "He left it dead, and with its head\n",
      "He went galumphing back.\n",
      "\n",
      "\"And hast thou slain the Jabberwock?\n",
      "Come to my arms, my beamish boy!\"\n",
      "\"Oh frabjous day! Callooh! Callay!\"\n",
      "He chortled in his joy.\n",
      "\n",
      "'Twas brillig, and the slithy toves\n",
      "Did gyre and gimble in the wabe:\n",
      "All mimsy were the borogoves,\n",
      "And the mome raths outgrabe.\n",
      "\n",
      "'Twas brillig, and the slithy toves\n",
      "Did gyre and gimble in the wabe;\n",
      "All mimsy were the borogoves,\n",
      "And the mome raths outgrabe.\n",
      "\n",
      "\"Beware the Jabberwock, my son!\n",
      "The jaws that bite, the claws that catch!\n",
      "Beware the Jubjub bird, and shun\n",
      "The frumious Bandersnatch!\"\n",
      "\n",
      "He took his vorpal sword in hand:\n",
      "Long time the manxome foe he sought,\n",
      "So rested he by the Tumtum tree,\n",
      "And stood a while in thought.\n",
      "\n",
      "And, as in uffish thought he stood,\n",
      "The Jabberwock, with eyes of flame,\n",
      "Came whiffling through the tulgey wood,\n",
      "And burbled as it came!\n",
      "\n",
      "One two! One two! And through and through\n",
      "The vorpal blade went snicker-snack!\n",
      "He left it dead, and with its head\n",
      "He went galumphing back.\n",
      "\n",
      "\"And hast thou slain the Jabberwock?\n",
      "Come to my arms, my beamish boy!\"\n",
      "\"Oh frabjous day! Callooh! Callay!\"\n",
      "He chortled in his joy.\n",
      "\n",
      "'Twas brillig, and the slithy toves\n",
      "Did gyre and gimble in the wabe:\n",
      "All mimsy were the borogoves,\n",
      "And the mome raths outgrabe.\n",
      "\n"
     ]
    }
   ],
   "source": [
    "with open('examples/sample.txt', 'r') as jabber:\n",
    "    line = jabber.readline() \n",
    "    while line:\n",
    "        print(line, end='') # removes the double \\n\n",
    "        line = jabber.readline()\n",
    "\n",
    "with open('examples/sample.txt', 'r') as jabber:\n",
    "    lines = jabber.readlines()\n",
    "    for line in lines:\n",
    "        print(line, end='')"
   ]
  },
  {
   "cell_type": "markdown",
   "metadata": {},
   "source": [
    "# Writing Text Files\n",
    "\n",
    "When using the write method, it will create a file if it doesn't exist, but will overwrite the contents if a file of the same filename does exist.\n",
    "\n",
    "Data is written to a buffer (in memory) and is then written to a file in the background. If you want the data to be written to the file immedietly, then add the `flush=True` to the `print` statement."
   ]
  },
  {
   "cell_type": "code",
   "execution_count": 18,
   "metadata": {},
   "outputs": [
    {
     "name": "stdout",
     "output_type": "stream",
     "text": [
      "Done!\n",
      "['Adelaide', 'Alice Springs', 'Darwin', 'Melbourne', 'Sydney']\n"
     ]
    }
   ],
   "source": [
    "cities = ['Adelaide', 'Alice Springs', 'Darwin', 'Melbourne', 'Sydney']\n",
    "\n",
    "with open('examples/cities.txt', 'w') as city_file:\n",
    "    for city in cities:\n",
    "        print(city, file=city_file, flush=True) # You can write to a file using print!!!\n",
    "    \n",
    "    print('Done!')\n",
    "\n",
    "# Can we now read back the data\n",
    "cities_new = []\n",
    "\n",
    "with open('examples/cities.txt', 'r') as city_file:\n",
    "    for city in city_file:\n",
    "        cities_new.append(city.strip('\\n'))\n",
    "\n",
    "print(cities_new)"
   ]
  },
  {
   "cell_type": "code",
   "execution_count": 19,
   "metadata": {},
   "outputs": [
    {
     "name": "stdout",
     "output_type": "stream",
     "text": [
      "Done!\n",
      "('More Mayhem', 'Imelda May', 2011, ((1, 'Pulling the Rug'), (2, 'Psycho'), (3, 'Mayhem'), (4, 'Kentish Town Waltz')))\n",
      "More Mayhem\n",
      "Imelda May\n",
      "2011\n"
     ]
    }
   ],
   "source": [
    "imelda = 'More Mayhem', 'Imelda May', 2011, (\n",
    "    (1, 'Pulling the Rug'), (2, 'Psycho'), (3, 'Mayhem'), (4, 'Kentish Town Waltz') \n",
    ")\n",
    "\n",
    "with open('examples/imelda.txt', 'w') as imelda_file:\n",
    "    print(imelda, file=imelda_file)\n",
    "    print('Done!')\n",
    "\n",
    "with open('examples/imelda.txt', 'r') as imelda_file:\n",
    "    contents = imelda_file.readline()\n",
    "\n",
    "imelda = eval(contents) # The eval function lets a Python program run Python code within itself.\n",
    "\n",
    "print(imelda)\n",
    "title, artist, year, tracks = imelda\n",
    "\n",
    "print(title)\n",
    "print(artist)\n",
    "print(year)\n"
   ]
  },
  {
   "cell_type": "markdown",
   "metadata": {},
   "source": [
    "# Challenge - Writing Text Files\n",
    "\n",
    "Write a program to append the times tables to our jabberwocky poem in sample.txt. We want the tables from 2 to 12 (similar to the output from the For loops part 2 lecture in section 6).\n",
    "\n",
    "The first column of numbers should be right justified. As an example, the 2 times table should look like this:\n",
    "```\n",
    " 1 times 2 is 2\n",
    " 2 times 2 is 4\n",
    " 3 times 2 is 6\n",
    " 4 times 2 is 8\n",
    " 5 times 2 is 10\n",
    " 6 times 2 is 12\n",
    " 7 times 2 is 14\n",
    " 8 times 2 is 16\n",
    " 9 times 2 is 18\n",
    "10 times 2 is 20\n",
    "11 times 2 is 22 \n",
    "12 times 2 is 24\n",
    " --------------------\n",
    "```"
   ]
  },
  {
   "cell_type": "code",
   "execution_count": 21,
   "metadata": {},
   "outputs": [
    {
     "name": "stdout",
     "output_type": "stream",
     "text": [
      "Done!\n"
     ]
    }
   ],
   "source": [
    "with open('examples/sample.txt', 'a') as jabber_file:\n",
    "    for i in range(2, 13):\n",
    "        for j in range(1, 13):\n",
    "            print('{:2} times {} is {}'.format(j, i, (j*i)), file=jabber_file)\n",
    "        print('-' * 20, file=jabber_file)\n",
    "    print('Done!')"
   ]
  },
  {
   "cell_type": "markdown",
   "metadata": {},
   "source": [
    "# Writing Binary Files\n",
    "\n",
    "Why would one want to deal with binary data? Reasons why:\n",
    "    + Dealing with binary data (such as images)\n",
    "    + Store variables to be used later."
   ]
  },
  {
   "cell_type": "code",
   "execution_count": 24,
   "metadata": {},
   "outputs": [
    {
     "name": "stdout",
     "output_type": "stream",
     "text": [
      "b'\\x00\\x01\\x02\\x03\\x04\\x05\\x06\\x07\\x08\\t\\n'\n",
      "b'\\x0b\\x0c\\r\\x0e\\x0f\\x10'\n"
     ]
    }
   ],
   "source": [
    "with open('examples/binary', 'bw') as bin_file:\n",
    "#     for i in range(17): # This line is pointless, seeing as you have to use a list in the bytes() method\n",
    "#         bin_file.write(bytes([i])) \n",
    "    bin_file.write(bytes(range(17))) \n",
    "\n",
    "\n",
    "with open('examples/binary', 'br') as bin_file2:\n",
    "    for b in bin_file2:\n",
    "        print(b)"
   ]
  },
  {
   "cell_type": "code",
   "execution_count": 29,
   "metadata": {},
   "outputs": [
    {
     "name": "stdout",
     "output_type": "stream",
     "text": [
      "65534\n",
      "65535\n",
      "65536\n",
      "2998302\n",
      "515910912\n",
      "\n"
     ]
    }
   ],
   "source": [
    "a = 65534   # FF FE\n",
    "b = 65535   # FF FF\n",
    "c = 65536   # 00 01 00 00\n",
    "d = 2998302 # 00 2D C0 1E\n",
    "\n",
    "with open('examples/binary2', 'bw') as bin_file:\n",
    "    bin_file.write(a.to_bytes(2, 'big'))    # big stores most significant bit first\n",
    "    bin_file.write(b.to_bytes(2, 'big'))\n",
    "    bin_file.write(c.to_bytes(4, 'big'))\n",
    "    bin_file.write(d.to_bytes(4, 'big'))\n",
    "    bin_file.write(d.to_bytes(4, 'little')) # little stores least significant bit first\n",
    "    \n",
    "with open('examples/binary2', 'br') as bin_file2:\n",
    "    e = int.from_bytes(bin_file2.read(2), 'big')\n",
    "    f = int.from_bytes(bin_file2.read(2), 'big')\n",
    "    g = int.from_bytes(bin_file2.read(4), 'big')\n",
    "    h = int.from_bytes(bin_file2.read(4), 'big')\n",
    "    i = int.from_bytes(bin_file2.read(4), 'big')\n",
    "    \n",
    "    print('{}\\n{}\\n{}\\n{}\\n{}\\n'.format(e,f,g,h,i))"
   ]
  },
  {
   "cell_type": "markdown",
   "metadata": {},
   "source": [
    "# Pickle\n",
    "\n",
    "Python's way of '`serializing`' objects. When an object is pickled, it is stored with the objects data and enough information in order to rebuild the object.\n",
    "\n",
    "Objects must be read back in the same order it was initialised.\n",
    "\n",
    "There are different protocols that can be used when pickling items.\n",
    "In order to use a different protocal, you add it as a parameter in the `dump` method.\n",
    "\n",
    "`pickle.dump(imelda, pickle_file, protocol=0)`\n",
    "\n",
    "`pickle.dump(imelda, pickle_file, protocol=pickle.HIGHEST_PROTOCOL)`\n",
    "\n",
    "`pickle.dump(imelda, pickle_file, protocol=pickle.DEFAULT_PROTOCOL)`\n",
    "\n",
    "If you have pickled data in Python2, it cannot be read by Python3.\n",
    "\n",
    "Only unpickle data that you can `TRUST`!!!\n",
    "\n",
    "More info can be found [here](https://docs.python.org/3/library/pickle.html)"
   ]
  },
  {
   "cell_type": "code",
   "execution_count": 38,
   "metadata": {},
   "outputs": [
    {
     "name": "stdout",
     "output_type": "stream",
     "text": [
      "('More Mayhem', 'Imelda May', 2011, ((1, 'Pulling the Rug'), (2, 'Psycho'), (3, 'Mayhem'), (4, 'Kentish Town Waltz')))\n"
     ]
    }
   ],
   "source": [
    "import pickle\n",
    "\n",
    "imelda = ('More Mayhem',\n",
    "          'Imelda May',\n",
    "          2011,\n",
    "          ((1, 'Pulling the Rug'),\n",
    "           (2, 'Psycho'),\n",
    "           (3, 'Mayhem'),\n",
    "           (4, 'Kentish Town Waltz')))\n",
    "\n",
    "with open('examples/imelda.pickle', 'bw') as pickle_file:\n",
    "    pickle.dump(imelda, pickle_file)\n",
    "    \n",
    "with open('examples/imelda.pickle', 'br') as pickle_file:\n",
    "    imelda2 = pickle.load(pickle_file)\n",
    "\n",
    "print(imelda2)\n"
   ]
  },
  {
   "cell_type": "code",
   "execution_count": 39,
   "metadata": {},
   "outputs": [
    {
     "name": "stdout",
     "output_type": "stream",
     "text": [
      "('More Mayhem', 'Imelda May', 2011, ((1, 'Pulling the Rug'), (2, 'Psycho'), (3, 'Mayhem'), (4, 'Kentish Town Waltz')))\n",
      "[0, 2, 4, 6, 8]\n",
      "[1, 3, 5, 7, 9]\n",
      "2998302\n",
      "\n"
     ]
    }
   ],
   "source": [
    "import pickle\n",
    "\n",
    "imelda = ('More Mayhem',\n",
    "          'Imelda May',\n",
    "          2011,\n",
    "          ((1, 'Pulling the Rug'),\n",
    "           (2, 'Psycho'),\n",
    "           (3, 'Mayhem'),\n",
    "           (4, 'Kentish Town Waltz')))\n",
    "\n",
    "even = list(range(0, 10, 2))\n",
    "odd = list(range(1, 10, 2))\n",
    "\n",
    "with open('examples/imelda2.pickle', 'bw') as pickle_file:\n",
    "    pickle.dump(imelda, pickle_file)\n",
    "    pickle.dump(even, pickle_file)\n",
    "    pickle.dump(odd, pickle_file)\n",
    "    pickle.dump(2998302, pickle_file)\n",
    "    \n",
    "with open('examples/imelda2.pickle', 'br') as pickle_file:\n",
    "    imelda2 = pickle.load(pickle_file)\n",
    "    even_list = pickle.load(pickle_file)\n",
    "    odd_list  = pickle.load(pickle_file)\n",
    "    x = pickle.load(pickle_file)\n",
    "\n",
    "print('{}\\n{}\\n{}\\n{}\\n'.format(imelda2, even_list, odd_list, x))\n",
    "    "
   ]
  },
  {
   "cell_type": "markdown",
   "metadata": {},
   "source": [
    "# Shelve\n",
    "\n",
    "A `shelf` is a persistent, dictionary-like object. Unlike `pickle`, it doesn't store everything back into memory. (which is useful if you are dealing with big data). "
   ]
  },
  {
   "cell_type": "code",
   "execution_count": 41,
   "metadata": {},
   "outputs": [
    {
     "name": "stdout",
     "output_type": "stream",
     "text": [
      "a sour, yellow citrus fruit\n",
      "a small, sweet fruit growing  in bunches\n",
      "<shelve.DbfilenameShelf object at 0x7f694845c400>\n"
     ]
    }
   ],
   "source": [
    "import shelve\n",
    "\n",
    "#fruit = shelf.open('ShelfTest')\n",
    "#fruit.close()\n",
    "\n",
    "with shelve.open('examples/ShelfTest') as fruit:\n",
    "    fruit['orange'] = 'a sweet, orange, citrus fruit'\n",
    "    fruit['apple']  = 'good for making cider'\n",
    "    fruit['lemon']  = 'a sour, yellow citrus fruit'\n",
    "    fruit['grape']  = 'a small, sweet fruit growing  in bunches'\n",
    "    fruit['lime']   = 'a sour, green citrus fruit'\n",
    "    \n",
    "    print(fruit['lemon'])\n",
    "    print(fruit['grape'])\n",
    "\n",
    "print(fruit)"
   ]
  },
  {
   "cell_type": "code",
   "execution_count": 44,
   "metadata": {},
   "outputs": [
    {
     "name": "stdout",
     "output_type": "stream",
     "text": [
      "250\n",
      "red\n",
      "make\n",
      "model\n",
      "colour\n",
      "engine_size\n",
      "engin_size\n",
      "========================================\n",
      "make\n",
      "model\n",
      "colour\n",
      "engin_size\n"
     ]
    }
   ],
   "source": [
    "import shelve\n",
    "\n",
    "with shelve.open('examples/bike') as bike:\n",
    "    bike['make']        = 'Honda'\n",
    "    bike['model']       = '250 Dream'\n",
    "    bike['colour']      = 'red'\n",
    "    bike['engine_size'] = 250\n",
    "    bike['engin_size'] = 250\n",
    "    \n",
    "    print(bike['engine_size'])\n",
    "    print(bike['colour'])\n",
    "    \n",
    "    for key in bike:\n",
    "        print(key)\n",
    "        \n",
    "    print('=' * 40)\n",
    "    \n",
    "    del bike['engine_size']\n",
    "    \n",
    "    for key in bike:\n",
    "        print(key)\n",
    "    "
   ]
  },
  {
   "cell_type": "markdown",
   "metadata": {},
   "source": [
    "# Manipulating Data with Shelve"
   ]
  },
  {
   "cell_type": "code",
   "execution_count": 49,
   "metadata": {},
   "outputs": [
    {
     "name": "stdout",
     "output_type": "stream",
     "text": [
      "Please enter a fruit : lime\n",
      "a sour, green citrus fruit\n",
      "Please enter a fruit : melon\n",
      "We don`t have a melon\n",
      "Please enter a fruit : quit\n"
     ]
    }
   ],
   "source": [
    "with shelve.open('examples/ShelfTest') as fruit:\n",
    "    fruit['orange'] = 'a sweet, orange, citrus fruit'\n",
    "    fruit['apple']  = 'good for making cider'\n",
    "    fruit['lemon']  = 'a sour, yellow citrus fruit'\n",
    "    fruit['grape']  = 'a small, sweet fruit growing  in bunches'\n",
    "    fruit['lime']   = 'a sour, green citrus fruit'\n",
    "    \n",
    "#     print(fruit['lemon'])\n",
    "#     print(fruit['grape'])\n",
    "#     print(fruit['lime'])\n",
    "    \n",
    "#     fruit['lime']   = 'great with tequila'\n",
    "    \n",
    "#     print(fruit['lime'])\n",
    "\n",
    "    while True:\n",
    "        shelf_key = input('Please enter a fruit : ')\n",
    "\n",
    "        if shelf_key == 'quit':\n",
    "            break\n",
    "        \n",
    "        if shelf_key in fruit:\n",
    "            #desc = fruit.get(shelf_key, 'We don`t have a {}'.format(shelf_key))\n",
    "            print(fruit[shelf_key])\n",
    "        else:\n",
    "            print('We don`t have a {}'.format(shelf_key))"
   ]
  },
  {
   "cell_type": "markdown",
   "metadata": {},
   "source": [
    "# Updating with Shelve"
   ]
  },
  {
   "cell_type": "code",
   "execution_count": 54,
   "metadata": {},
   "outputs": [],
   "source": [
    "import shelve\n",
    "\n",
    "blt = ['bacon', 'lettuce', 'tomato', 'bread']\n",
    "beans_on_toast = ['beans', 'bread']\n",
    "scrambled_eggs = ['eggs', 'butter', 'bread']\n",
    "soup = ['tin of soup']\n",
    "pasta = ['pasta', 'cheese']\n",
    "\n",
    "with shelve.open('examples/recipies') as recipies:\n",
    "    recipies['blt'] = blt\n",
    "    recipies['beans_on_toast'] = beans_on_toast\n",
    "    recipies['scrambled_eggs'] = scrambled_eggs\n",
    "    recipies['soup'] = soup\n",
    "    recipies['pasta'] = pasta"
   ]
  },
  {
   "cell_type": "code",
   "execution_count": 55,
   "metadata": {},
   "outputs": [
    {
     "name": "stdout",
     "output_type": "stream",
     "text": [
      "blt ['bacon', 'lettuce', 'tomato', 'bread']\n",
      "beans_on_toast ['beans', 'bread']\n",
      "scrambled_eggs ['eggs', 'butter', 'bread']\n",
      "soup ['tin of soup']\n",
      "pasta ['pasta', 'cheese']\n",
      "========================================\n",
      "blt ['bacon', 'lettuce', 'tomato', 'bread', 'butter']\n",
      "beans_on_toast ['beans', 'bread']\n",
      "scrambled_eggs ['eggs', 'butter', 'bread']\n",
      "soup ['tin of soup']\n",
      "pasta ['pasta', 'cheese', 'tomato']\n",
      "========================================\n",
      "blt ['bacon', 'lettuce', 'tomato', 'bread', 'butter']\n",
      "beans_on_toast ['beans', 'bread']\n",
      "scrambled_eggs ['eggs', 'butter', 'bread']\n",
      "soup ['tin of soup', 'croutons']\n",
      "pasta ['pasta', 'cheese', 'tomato']\n",
      "========================================\n"
     ]
    }
   ],
   "source": [
    "import shelve\n",
    "\n",
    "with shelve.open('examples/recipies') as recipies:\n",
    "    for snack in recipies:\n",
    "        print(snack, recipies[snack])\n",
    "    print('=' * 40)\n",
    "    \n",
    "    temp = recipies['blt'] \n",
    "    temp.append('butter')\n",
    "    recipies['blt'] = temp\n",
    "    \n",
    "    temp = recipies['pasta'] \n",
    "    temp.append('tomato')\n",
    "    recipies['pasta'] = temp\n",
    "    \n",
    "    for snack in recipies:\n",
    "        print(snack, recipies[snack])\n",
    "    print('=' * 40)\n",
    "        \n",
    "# Or you can enable the writeback flag, but heavy on memory usage\n",
    "# to force sync() clears the cache from memory\n",
    "\n",
    "\n",
    "with shelve.open('examples/recipies', writeback=True) as recipies:\n",
    "    recipies['soup'].append('croutons')\n",
    "    \n",
    "    for snack in recipies:\n",
    "        print(snack, recipies[snack])\n",
    "    print('=' * 40)"
   ]
  },
  {
   "cell_type": "markdown",
   "metadata": {},
   "source": [
    "# Converting Dictionary to Shelf"
   ]
  },
  {
   "cell_type": "code",
   "execution_count": null,
   "metadata": {},
   "outputs": [],
   "source": [
    "import shelve\n",
    "\n",
    "books = shelve.open('examples/book')\n",
    "books['recipes'] = {'blt': ['bacon', 'lettuce', 'tomato', 'bread'],\n",
    "                    'beans_on_toast': ['beans', 'bread'],\n",
    "                    'scrambled eggs': ['eggs', 'butter', 'milk'],\n",
    "                    'soup': ['tin of soup'],\n",
    "                    'pasta': ['pasta', 'cheese']}\n",
    "books['maintenance'] = {'stuck': ['oil'],\n",
    "                        'loose': ['gaffer tape']}\n",
    "\n",
    "print(books['recipes'])\n",
    "# print(books['recipes']['scrambled eggs'])\n",
    "#\n",
    "# print(books['maintenance']['loose'])\n",
    "books.close()"
   ]
  },
  {
   "cell_type": "markdown",
   "metadata": {},
   "source": [
    "# Shelve Challenge\n",
    "\n",
    "Modify the program from the Second Dictionary challenge of lecture 56 to use shelves instead of dictionaries.\n",
    "\n",
    "Do this by creating two programs. `cave_initialise.py` should create the two shelves (locations and vocabulary) with the appropriate keys and values.\n",
    "\n",
    "`cave_game.py` will then use the two shelves instead of dictionaries.\n",
    "\n",
    "Apart from opening and closing the shelves, `cave_game` will need only two changes to the actual code."
   ]
  },
  {
   "cell_type": "code",
   "execution_count": 58,
   "metadata": {},
   "outputs": [],
   "source": [
    "# cave_initalise.py\n",
    "\n",
    "import shelve\n",
    "\n",
    "with shelve.open('examples/storage') as storage:\n",
    "    storage['locations'] = { 0 : {'desc' : 'You are sitting in front of a computer learning Python',\n",
    "                       'exits' : {},\n",
    "                       'named_exits' : {}},\n",
    "                  1 : {'desc' : 'You are standing at the end of a road before a small brick building',\n",
    "                       'exits' : {'Q' : 0, 'N' : 5, 'E' : 3, 'S': 4, 'W' : 2},\n",
    "                       'named_exits' : {'2' : 2, '3' : 3, '5': 5, '4' : 4}},\n",
    "                  2 : {'desc' : 'You are at the top of a hill',\n",
    "                       'exits' : {'Q' : 0, 'N' : 5},\n",
    "                       'named_exits' : {'1' : 1}},\n",
    "                  3 : {'desc' : 'You are inside a building, a well house for a small stream',\n",
    "                       'exits' : {'Q' : 0, 'W' : 1},\n",
    "                       'named_exits' : {'1' : 1}},\n",
    "                  4 : {'desc' : 'You are in a valley beside a stream',\n",
    "                       'exits' : {'Q' : 0, 'N' : 1, 'W': 2},\n",
    "                       'named_exits' : {'1' : 1, '2' : 2}},\n",
    "                  5 : {'desc' : 'You are in the forest',\n",
    "                       'exits' : {'Q' : 0, 'S' : 1, 'W' : 2},\n",
    "                       'named_exits' : {'1' : 1, '2' : 2}},\n",
    "    }\n",
    "\n",
    "    storage['words'] = {'NORTH' : 'N',\n",
    "             'EAST' : 'E',\n",
    "             'SOUTH' : 'S',\n",
    "             'WEST' : 'W',\n",
    "             'QUIT' : 'Q',\n",
    "             'EXIT' : 'Q',\n",
    "             'DIE' : 'Q',\n",
    "             'ROAD' : '1',\n",
    "             'HILL' : '2',\n",
    "             'BUILDING' : '3',\n",
    "             'VALLEY' : '4',\n",
    "             'FOREST' : '5'\n",
    "            }"
   ]
  },
  {
   "cell_type": "code",
   "execution_count": 61,
   "metadata": {},
   "outputs": [
    {
     "name": "stdout",
     "output_type": "stream",
     "text": [
      "You are standing at the end of a road before a small brick building\n",
      "\n",
      "Available exits are : Q, N, E, S, W    N\n",
      "\n",
      "You are in the forest\n",
      "\n",
      "Available exits are : Q, S, W    S\n",
      "\n",
      "You are standing at the end of a road before a small brick building\n",
      "\n",
      "Available exits are : Q, N, E, S, W    Q\n",
      "\n",
      "You are sitting in front of a computer learning Python\n",
      "\n"
     ]
    }
   ],
   "source": [
    "# cave_game.py\n",
    "\n",
    "import shelve\n",
    "\n",
    "storage = shelve.open('examples/storage')\n",
    "\n",
    "location = 1\n",
    "\n",
    "while True:\n",
    "    available_exits = ', '.join(storage['locations'][location]['exits'].keys())\n",
    "    \n",
    "    print(storage['locations'][location]['desc'])\n",
    "    print()\n",
    "    \n",
    "    if location == 0 :\n",
    "        storage.close()\n",
    "        break\n",
    "    else:\n",
    "        all_exits = storage['locations'][location]['exits'].copy()\n",
    "        all_exits.update(storage['locations'][location]['named_exits'])\n",
    "    \n",
    "    \n",
    "    direction = input('Available exits are : {}    '.format(available_exits)).upper()\n",
    "    print()\n",
    "\n",
    "    if len(direction) > 1:\n",
    "        user_input = direction.split(' ')\n",
    "        \n",
    "        for word in user_input:\n",
    "            if word in words:\n",
    "                direction = words[word]\n",
    "                break\n",
    "    \n",
    "    if direction in all_exits:\n",
    "        location = all_exits[direction]\n",
    "    else:\n",
    "        print('You can not go in that direction!')"
   ]
  }
 ],
 "metadata": {
  "kernelspec": {
   "display_name": "Python 3",
   "language": "python",
   "name": "python3"
  },
  "language_info": {
   "codemirror_mode": {
    "name": "ipython",
    "version": 3
   },
   "file_extension": ".py",
   "mimetype": "text/x-python",
   "name": "python",
   "nbconvert_exporter": "python",
   "pygments_lexer": "ipython3",
   "version": "3.6.6"
  }
 },
 "nbformat": 4,
 "nbformat_minor": 2
}
