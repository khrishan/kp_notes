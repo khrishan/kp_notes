{
 "cells": [
  {
   "cell_type": "markdown",
   "metadata": {},
   "source": [
    "# Misc\n",
    "\n",
    "Each line of Python code should be less than 120 characters.\n",
    "\n",
    "You need to ensure that Python3 and pip is installed."
   ]
  },
  {
   "cell_type": "markdown",
   "metadata": {},
   "source": [
    "## Virtual Environments\n",
    "\n",
    "### Reference\n",
    "[https://docs.python-guide.org/dev/virtualenvs/](https://docs.python-guide.org/dev/virtualenvs/)"
   ]
  },
  {
   "cell_type": "markdown",
   "metadata": {},
   "source": [
    "## `pipenv`\n",
    "\n",
    "\n",
    "`Pipenv` is a dependency manager for Python projects. While `pi`p can install Python packages, `Pipenv` is recommended as it’s a higher-level tool that simplifies dependency management for common use cases.\n",
    "\n",
    "```bash\n",
    "pip install --user pipenv\n",
    "```\n",
    "\n",
    "Pipenv manages dependencies on a per-project basis. To install packages, change into your project’s directory (or just an empty directory for this tutorial) and run:\n",
    "\n",
    "```bash\n",
    "cd project_folder\n",
    "pipenv install requests\n",
    "```\n",
    "\n",
    "Now that Requests is installed you can create a simple `main.py` file to use it:\n",
    "\n",
    "```python\n",
    "import requests\n",
    "\n",
    "response = requests.get('https://httpbin.org/ip')\n",
    "\n",
    "print('Your IP is {0}'.format(response.json()['origin']))\n",
    "```\n",
    "\n",
    "Then you can run this script using pipenv run:\n",
    "\n",
    "```bash\n",
    "pipenv run python main.py\n",
    "```"
   ]
  },
  {
   "cell_type": "markdown",
   "metadata": {},
   "source": [
    "## `virtualenv`\n",
    "\n",
    "`virtualenv` is a tool to create isolated Python environments. `virtualenv` creates a folder which contains all the necessary executables to use the packages that a Python project would need.\n",
    "\n",
    "```bash\n",
    "pip install virtualenv\n",
    "```\n",
    "\n",
    "### Basic Usage\n",
    "\n",
    "#### 1. Create a virtual environment for a project:\n",
    "\n",
    "```bash\n",
    "cd project_folder\n",
    "virtualenv --no-site-packages venv\n",
    "```\n",
    "\n",
    "`virtualenv` venv will create a folder in the current directory which will contain the Python executable files, and a copy of the `pip` library which you can use to install other packages.\n",
    "\n",
    "The name of the virtual environment (in this case, it was `venv`) can be anything; omitting the name will place the files in the current directory instead.\n",
    "\n",
    "Note\n",
    "‘venv’ is the general convention used globally. As it is readily available in ignore files (eg: .gitignore’)\n",
    "\n",
    "This creates a copy of Python in whichever directory you ran the command in, placing it in a folder named venv.\n",
    "\n",
    "\n",
    "\n",
    "#### 2. To begin using the virtual environment, it needs to be activated:\n",
    "\n",
    "```bash\n",
    "source venv/bin/activate\n",
    "```\n",
    "\n",
    "The name of the current virtual environment will now appear on the left of the prompt (e.g. `(venv)Your-Computer:project_folder UserName$`) to let you know that it’s active. From now on, any package that you install using `pip` will be placed in the `venv` folder, isolated from the global Python installation.\n",
    "\n",
    "#### 3. If you are done working in the virtual environment for the moment, you can deactivate it:\n",
    "\n",
    "`deactivate`"
   ]
  },
  {
   "cell_type": "code",
   "execution_count": null,
   "metadata": {},
   "outputs": [],
   "source": []
  }
 ],
 "metadata": {
  "kernelspec": {
   "display_name": "Python 3",
   "language": "python",
   "name": "python3"
  },
  "language_info": {
   "codemirror_mode": {
    "name": "ipython",
    "version": 3
   },
   "file_extension": ".py",
   "mimetype": "text/x-python",
   "name": "python",
   "nbconvert_exporter": "python",
   "pygments_lexer": "ipython3",
   "version": "3.7.3"
  }
 },
 "nbformat": 4,
 "nbformat_minor": 2
}
